{
 "cells": [
  {
   "cell_type": "markdown",
   "metadata": {},
   "source": [
    "# Sparkify Project \n",
    "\n",
    "## Project Defention\n",
    "### Overview and Problem Statement\n",
    "In this project, I followed these process:\n",
    "\n",
    "- Data exploration to know more about data features and stats.\n",
    "- Define Churn and label data based on churn definition\n",
    "- Apply some feature engineering to apply some innovation and customizations on the generated model.\n",
    "- Data transformation and splitting\n",
    "- Model training, refinement and Evaluation\n",
    "\n",
    "to analyze Sparkify(virtual music streaming service) data, in the way to achive the goal of project which is predicting which group of users are expected to churn - either downgrading from premium to free or cancel thier subscriptions altogether in the future to take decision based on it, by sending offers or trying to make them still with our service.\n",
    "\n",
    "### Metrics\n",
    "The used metric will be **F1-score** which is more helpful and takes both false positives and false negatives into account, and F1 is usually more useful than accuracy, especially if you have an uneven class distribution \n",
    "\n",
    "#### Workspace\n",
    "This workspace contains a tiny subset (128MB) of the full dataset available (12GB). Feel free to use this workspace to build your project, or to explore a smaller subset with Spark before deploying your cluster on the cloud. Instructions for setting up your Spark cluster is included in the last lesson of the Extracurricular Spark Course content.\n",
    "\n",
    "You can follow the steps below to guide your data analysis and model building portion of this project."
   ]
  },
  {
   "cell_type": "code",
   "execution_count": 2,
   "metadata": {},
   "outputs": [],
   "source": [
    "# import libraries\n",
    "import datetime\n",
    "import numpy as np\n",
    "import pandas as pd\n",
    "import matplotlib.pyplot as plt\n",
    "import seaborn as sns\n",
    "sns.set(style=\"ticks\", color_codes=True)\n",
    "from time import time\n",
    "#pyspark imports\n",
    "from pyspark.sql import SparkSession\n",
    "from pyspark.sql.functions import udf,when,col,avg,lit\n",
    "from pyspark.ml.feature import StandardScaler, VectorAssembler\n",
    "from pyspark.ml.classification import LogisticRegression, GBTClassifier,DecisionTreeClassifier, RandomForestClassifier\n",
    "from pyspark.ml.evaluation import MulticlassClassificationEvaluator\n",
    "from pyspark.ml.tuning import CrossValidator,ParamGridBuilder"
   ]
  },
  {
   "cell_type": "code",
   "execution_count": 3,
   "metadata": {},
   "outputs": [],
   "source": [
    "# create a Spark session\n",
    "spark = SparkSession.builder.appName(\"Predicting churn using Pyspark ML\").getOrCreate()"
   ]
  },
  {
   "cell_type": "markdown",
   "metadata": {},
   "source": [
    "# Load and Clean Dataset\n",
    "In this workspace, the mini-dataset file is `mini_sparkify_event_data.json`. Load and clean the dataset, checking for invalid or missing data - for example, records without userids or sessionids. "
   ]
  },
  {
   "cell_type": "markdown",
   "metadata": {},
   "source": [
    "- Data Loading and cleaning can be done through these steps:\n",
    "    - Loading Dataset\n",
    "    - Learn about the data by: e.g checking data columns\n",
    "    - Checking null values then resolve them (specially in IDs fields)\n",
    "    - Checking datetime columns and format them if needed."
   ]
  },
  {
   "cell_type": "markdown",
   "metadata": {},
   "source": [
    "### Loading Dataset"
   ]
  },
  {
   "cell_type": "code",
   "execution_count": 4,
   "metadata": {},
   "outputs": [
    {
     "data": {
      "text/html": [
       "<div>\n",
       "<style scoped>\n",
       "    .dataframe tbody tr th:only-of-type {\n",
       "        vertical-align: middle;\n",
       "    }\n",
       "\n",
       "    .dataframe tbody tr th {\n",
       "        vertical-align: top;\n",
       "    }\n",
       "\n",
       "    .dataframe thead th {\n",
       "        text-align: right;\n",
       "    }\n",
       "</style>\n",
       "<table border=\"1\" class=\"dataframe\">\n",
       "  <thead>\n",
       "    <tr style=\"text-align: right;\">\n",
       "      <th></th>\n",
       "      <th>215987</th>\n",
       "      <th>138569</th>\n",
       "      <th>43406</th>\n",
       "    </tr>\n",
       "  </thead>\n",
       "  <tbody>\n",
       "    <tr>\n",
       "      <th>artist</th>\n",
       "      <td>Steve Miller</td>\n",
       "      <td>None</td>\n",
       "      <td>Guns N' Roses</td>\n",
       "    </tr>\n",
       "    <tr>\n",
       "      <th>auth</th>\n",
       "      <td>Logged In</td>\n",
       "      <td>Logged In</td>\n",
       "      <td>Logged In</td>\n",
       "    </tr>\n",
       "    <tr>\n",
       "      <th>firstName</th>\n",
       "      <td>Angel</td>\n",
       "      <td>Andrew</td>\n",
       "      <td>Alexi</td>\n",
       "    </tr>\n",
       "    <tr>\n",
       "      <th>gender</th>\n",
       "      <td>M</td>\n",
       "      <td>M</td>\n",
       "      <td>F</td>\n",
       "    </tr>\n",
       "    <tr>\n",
       "      <th>itemInSession</th>\n",
       "      <td>60</td>\n",
       "      <td>240</td>\n",
       "      <td>173</td>\n",
       "    </tr>\n",
       "    <tr>\n",
       "      <th>lastName</th>\n",
       "      <td>Jacobs</td>\n",
       "      <td>Poole</td>\n",
       "      <td>Warren</td>\n",
       "    </tr>\n",
       "    <tr>\n",
       "      <th>length</th>\n",
       "      <td>66.2199</td>\n",
       "      <td>NaN</td>\n",
       "      <td>184.032</td>\n",
       "    </tr>\n",
       "    <tr>\n",
       "      <th>level</th>\n",
       "      <td>free</td>\n",
       "      <td>paid</td>\n",
       "      <td>paid</td>\n",
       "    </tr>\n",
       "    <tr>\n",
       "      <th>location</th>\n",
       "      <td>Spokane-Spokane Valley, WA</td>\n",
       "      <td>Greensboro-High Point, NC</td>\n",
       "      <td>Spokane-Spokane Valley, WA</td>\n",
       "    </tr>\n",
       "    <tr>\n",
       "      <th>method</th>\n",
       "      <td>PUT</td>\n",
       "      <td>PUT</td>\n",
       "      <td>PUT</td>\n",
       "    </tr>\n",
       "    <tr>\n",
       "      <th>page</th>\n",
       "      <td>NextSong</td>\n",
       "      <td>Add to Playlist</td>\n",
       "      <td>NextSong</td>\n",
       "    </tr>\n",
       "    <tr>\n",
       "      <th>registration</th>\n",
       "      <td>1.53626e+12</td>\n",
       "      <td>1.54122e+12</td>\n",
       "      <td>1.53248e+12</td>\n",
       "    </tr>\n",
       "    <tr>\n",
       "      <th>sessionId</th>\n",
       "      <td>71</td>\n",
       "      <td>1719</td>\n",
       "      <td>782</td>\n",
       "    </tr>\n",
       "    <tr>\n",
       "      <th>song</th>\n",
       "      <td>Threshold</td>\n",
       "      <td>None</td>\n",
       "      <td>Live And Let Die</td>\n",
       "    </tr>\n",
       "    <tr>\n",
       "      <th>status</th>\n",
       "      <td>200</td>\n",
       "      <td>200</td>\n",
       "      <td>200</td>\n",
       "    </tr>\n",
       "    <tr>\n",
       "      <th>ts</th>\n",
       "      <td>1538952694000</td>\n",
       "      <td>1541760850000</td>\n",
       "      <td>1539547976000</td>\n",
       "    </tr>\n",
       "    <tr>\n",
       "      <th>userAgent</th>\n",
       "      <td>Mozilla/5.0 (X11; Ubuntu; Linux x86_64; rv:31....</td>\n",
       "      <td>\"Mozilla/5.0 (Windows NT 6.1; WOW64) AppleWebK...</td>\n",
       "      <td>Mozilla/5.0 (Windows NT 6.1; WOW64; rv:32.0) G...</td>\n",
       "    </tr>\n",
       "    <tr>\n",
       "      <th>userId</th>\n",
       "      <td>100019</td>\n",
       "      <td>153</td>\n",
       "      <td>54</td>\n",
       "    </tr>\n",
       "  </tbody>\n",
       "</table>\n",
       "</div>"
      ],
      "text/plain": [
       "                                                          215987  \\\n",
       "artist                                              Steve Miller   \n",
       "auth                                                   Logged In   \n",
       "firstName                                                  Angel   \n",
       "gender                                                         M   \n",
       "itemInSession                                                 60   \n",
       "lastName                                                  Jacobs   \n",
       "length                                                   66.2199   \n",
       "level                                                       free   \n",
       "location                              Spokane-Spokane Valley, WA   \n",
       "method                                                       PUT   \n",
       "page                                                    NextSong   \n",
       "registration                                         1.53626e+12   \n",
       "sessionId                                                     71   \n",
       "song                                                   Threshold   \n",
       "status                                                       200   \n",
       "ts                                                 1538952694000   \n",
       "userAgent      Mozilla/5.0 (X11; Ubuntu; Linux x86_64; rv:31....   \n",
       "userId                                                    100019   \n",
       "\n",
       "                                                          138569  \\\n",
       "artist                                                      None   \n",
       "auth                                                   Logged In   \n",
       "firstName                                                 Andrew   \n",
       "gender                                                         M   \n",
       "itemInSession                                                240   \n",
       "lastName                                                   Poole   \n",
       "length                                                       NaN   \n",
       "level                                                       paid   \n",
       "location                               Greensboro-High Point, NC   \n",
       "method                                                       PUT   \n",
       "page                                             Add to Playlist   \n",
       "registration                                         1.54122e+12   \n",
       "sessionId                                                   1719   \n",
       "song                                                        None   \n",
       "status                                                       200   \n",
       "ts                                                 1541760850000   \n",
       "userAgent      \"Mozilla/5.0 (Windows NT 6.1; WOW64) AppleWebK...   \n",
       "userId                                                       153   \n",
       "\n",
       "                                                          43406   \n",
       "artist                                             Guns N' Roses  \n",
       "auth                                                   Logged In  \n",
       "firstName                                                  Alexi  \n",
       "gender                                                         F  \n",
       "itemInSession                                                173  \n",
       "lastName                                                  Warren  \n",
       "length                                                   184.032  \n",
       "level                                                       paid  \n",
       "location                              Spokane-Spokane Valley, WA  \n",
       "method                                                       PUT  \n",
       "page                                                    NextSong  \n",
       "registration                                         1.53248e+12  \n",
       "sessionId                                                    782  \n",
       "song                                            Live And Let Die  \n",
       "status                                                       200  \n",
       "ts                                                 1539547976000  \n",
       "userAgent      Mozilla/5.0 (Windows NT 6.1; WOW64; rv:32.0) G...  \n",
       "userId                                                        54  "
      ]
     },
     "execution_count": 4,
     "metadata": {},
     "output_type": "execute_result"
    }
   ],
   "source": [
    "#loading mini dataset to work with\n",
    "dataset=spark.read.json(\"mini_sparkify_event_data.json\")\n",
    "dataset.toPandas().sample(3).T"
   ]
  },
  {
   "cell_type": "markdown",
   "metadata": {},
   "source": [
    "### Learn about the data"
   ]
  },
  {
   "cell_type": "code",
   "execution_count": 5,
   "metadata": {},
   "outputs": [
    {
     "name": "stdout",
     "output_type": "stream",
     "text": [
      "root\n",
      " |-- artist: string (nullable = true)\n",
      " |-- auth: string (nullable = true)\n",
      " |-- firstName: string (nullable = true)\n",
      " |-- gender: string (nullable = true)\n",
      " |-- itemInSession: long (nullable = true)\n",
      " |-- lastName: string (nullable = true)\n",
      " |-- length: double (nullable = true)\n",
      " |-- level: string (nullable = true)\n",
      " |-- location: string (nullable = true)\n",
      " |-- method: string (nullable = true)\n",
      " |-- page: string (nullable = true)\n",
      " |-- registration: long (nullable = true)\n",
      " |-- sessionId: long (nullable = true)\n",
      " |-- song: string (nullable = true)\n",
      " |-- status: long (nullable = true)\n",
      " |-- ts: long (nullable = true)\n",
      " |-- userAgent: string (nullable = true)\n",
      " |-- userId: string (nullable = true)\n",
      "\n"
     ]
    }
   ],
   "source": [
    "#printing the column details\n",
    "dataset.printSchema()"
   ]
  },
  {
   "cell_type": "markdown",
   "metadata": {},
   "source": [
    "### Checking null values then resolve them"
   ]
  },
  {
   "cell_type": "code",
   "execution_count": 6,
   "metadata": {},
   "outputs": [
    {
     "data": {
      "text/plain": [
       "artist           0.203812\n",
       "auth             0.000000\n",
       "firstName        0.029131\n",
       "gender           0.029131\n",
       "itemInSession    0.000000\n",
       "lastName         0.029131\n",
       "length           0.203812\n",
       "level            0.000000\n",
       "location         0.029131\n",
       "method           0.000000\n",
       "page             0.000000\n",
       "registration     0.029131\n",
       "sessionId        0.000000\n",
       "song             0.203812\n",
       "status           0.000000\n",
       "ts               0.000000\n",
       "userAgent        0.029131\n",
       "userId           0.000000\n",
       "dtype: float64"
      ]
     },
     "execution_count": 6,
     "metadata": {},
     "output_type": "execute_result"
    }
   ],
   "source": [
    "# Checking null values\n",
    "dataset.toPandas().isna().mean()"
   ]
  },
  {
   "cell_type": "markdown",
   "metadata": {},
   "source": [
    "As shown IDs fields ```[sessionId,userId]``` havn't any null value but we can check if they are empty strings"
   ]
  },
  {
   "cell_type": "code",
   "execution_count": 7,
   "metadata": {},
   "outputs": [
    {
     "name": "stdout",
     "output_type": "stream",
     "text": [
      "# Users with ID \"\" : 8346\n",
      "# Users with ID \"\" : 0\n"
     ]
    }
   ],
   "source": [
    "print('# Users with ID \"\" :',dataset.filter(dataset['userId'] == '').count())\n",
    "#Drop those users\n",
    "dataset=dataset.filter(dataset['userId'] != '')\n",
    "print('# Users with ID \"\" :',dataset.filter(dataset['userId'] == '').count())"
   ]
  },
  {
   "cell_type": "code",
   "execution_count": 8,
   "metadata": {},
   "outputs": [
    {
     "name": "stdout",
     "output_type": "stream",
     "text": [
      "# Sessions with ID \"\" : 0\n"
     ]
    }
   ],
   "source": [
    "print('# Sessions with ID \"\" :',dataset.filter(dataset['sessionId'] == '').count())"
   ]
  },
  {
   "cell_type": "markdown",
   "metadata": {},
   "source": [
    "### Checking datetime columns and format them"
   ]
  },
  {
   "cell_type": "code",
   "execution_count": 9,
   "metadata": {},
   "outputs": [],
   "source": [
    "ts_convert_udf = udf(lambda x: datetime.datetime.fromtimestamp(x / 1000.0).strftime(\"%Y-%m-%d %H:%M:%S\"))\n",
    "dataset = dataset.withColumn('event_time', ts_convert_udf('ts'))\n",
    "dataset = dataset.withColumn('registration_time', ts_convert_udf('registration'))\n",
    "get_hour_udf=udf(lambda x : datetime.datetime.fromtimestamp(x/ 1000.0).hour)\n",
    "dataset = dataset.withColumn('event_hour',get_hour_udf('ts'))"
   ]
  },
  {
   "cell_type": "code",
   "execution_count": 10,
   "metadata": {},
   "outputs": [
    {
     "data": {
      "text/plain": [
       "[Row(artist='Martha Tilston', auth='Logged In', firstName='Colin', gender='M', itemInSession=50, lastName='Freeman', length=277.89016, level='paid', location='Bakersfield, CA', method='PUT', page='NextSong', registration=1538173362000, sessionId=29, song='Rockpools', status=200, ts=1538352117000, userAgent='Mozilla/5.0 (Windows NT 6.1; WOW64; rv:31.0) Gecko/20100101 Firefox/31.0', userId='30', event_time='2018-10-01 00:01:57', registration_time='2018-09-28 22:22:42', event_hour='0'),\n",
       " Row(artist='Five Iron Frenzy', auth='Logged In', firstName='Micah', gender='M', itemInSession=79, lastName='Long', length=236.09424, level='free', location='Boston-Cambridge-Newton, MA-NH', method='PUT', page='NextSong', registration=1538331630000, sessionId=8, song='Canada', status=200, ts=1538352180000, userAgent='\"Mozilla/5.0 (Windows NT 6.1; WOW64) AppleWebKit/537.36 (KHTML, like Gecko) Chrome/37.0.2062.103 Safari/537.36\"', userId='9', event_time='2018-10-01 00:03:00', registration_time='2018-09-30 18:20:30', event_hour='0'),\n",
       " Row(artist='Adam Lambert', auth='Logged In', firstName='Colin', gender='M', itemInSession=51, lastName='Freeman', length=282.8273, level='paid', location='Bakersfield, CA', method='PUT', page='NextSong', registration=1538173362000, sessionId=29, song='Time For Miracles', status=200, ts=1538352394000, userAgent='Mozilla/5.0 (Windows NT 6.1; WOW64; rv:31.0) Gecko/20100101 Firefox/31.0', userId='30', event_time='2018-10-01 00:06:34', registration_time='2018-09-28 22:22:42', event_hour='0')]"
      ]
     },
     "execution_count": 10,
     "metadata": {},
     "output_type": "execute_result"
    }
   ],
   "source": [
    "dataset.head(3)"
   ]
  },
  {
   "cell_type": "code",
   "execution_count": 11,
   "metadata": {},
   "outputs": [
    {
     "name": "stdout",
     "output_type": "stream",
     "text": [
      "+--------------------+\n",
      "|                page|\n",
      "+--------------------+\n",
      "|              Cancel|\n",
      "|    Submit Downgrade|\n",
      "|         Thumbs Down|\n",
      "|                Home|\n",
      "|           Downgrade|\n",
      "|         Roll Advert|\n",
      "|              Logout|\n",
      "|       Save Settings|\n",
      "|Cancellation Conf...|\n",
      "|               About|\n",
      "|            Settings|\n",
      "|     Add to Playlist|\n",
      "|          Add Friend|\n",
      "|            NextSong|\n",
      "|           Thumbs Up|\n",
      "|                Help|\n",
      "|             Upgrade|\n",
      "|               Error|\n",
      "|      Submit Upgrade|\n",
      "+--------------------+\n",
      "\n"
     ]
    }
   ],
   "source": [
    "#Page column contains useful information about the user's activity\n",
    "dataset.select('page').distinct().show()"
   ]
  },
  {
   "cell_type": "code",
   "execution_count": 12,
   "metadata": {},
   "outputs": [
    {
     "data": {
      "text/plain": [
       "278154"
      ]
     },
     "execution_count": 12,
     "metadata": {},
     "output_type": "execute_result"
    }
   ],
   "source": [
    "dataset.count()"
   ]
  },
  {
   "cell_type": "markdown",
   "metadata": {},
   "source": [
    "# Exploratory Data Analysis\n",
    "When you're working with the full dataset, perform EDA by loading a small subset of the data and doing basic manipulations within Spark. In this workspace, you are already provided a small subset of data you can explore.\n",
    "\n",
    "### Define Churn\n",
    "\n",
    "Once you've done some preliminary analysis, create a column `Churn` to use as the label for your model. I suggest using the `Cancellation Confirmation` events to define your churn, which happen for both paid and free users. As a bonus task, you can also look into the `Downgrade` events.\n",
    "\n",
    "### Explore Data\n",
    "Once you've defined churn, perform some exploratory data analysis to observe the behavior for users who stayed vs users who churned. You can start by exploring aggregates on these two groups of users, observing how much of a specific action they experienced per a certain time unit or number of songs played."
   ]
  },
  {
   "cell_type": "code",
   "execution_count": 13,
   "metadata": {},
   "outputs": [
    {
     "data": {
      "text/html": [
       "<div>\n",
       "<style scoped>\n",
       "    .dataframe tbody tr th:only-of-type {\n",
       "        vertical-align: middle;\n",
       "    }\n",
       "\n",
       "    .dataframe tbody tr th {\n",
       "        vertical-align: top;\n",
       "    }\n",
       "\n",
       "    .dataframe thead th {\n",
       "        text-align: right;\n",
       "    }\n",
       "</style>\n",
       "<table border=\"1\" class=\"dataframe\">\n",
       "  <thead>\n",
       "    <tr style=\"text-align: right;\">\n",
       "      <th></th>\n",
       "      <th>artist</th>\n",
       "      <th>auth</th>\n",
       "      <th>firstName</th>\n",
       "      <th>gender</th>\n",
       "      <th>itemInSession</th>\n",
       "      <th>lastName</th>\n",
       "      <th>length</th>\n",
       "      <th>level</th>\n",
       "      <th>location</th>\n",
       "      <th>method</th>\n",
       "      <th>...</th>\n",
       "      <th>registration</th>\n",
       "      <th>sessionId</th>\n",
       "      <th>song</th>\n",
       "      <th>status</th>\n",
       "      <th>ts</th>\n",
       "      <th>userAgent</th>\n",
       "      <th>userId</th>\n",
       "      <th>event_time</th>\n",
       "      <th>registration_time</th>\n",
       "      <th>event_hour</th>\n",
       "    </tr>\n",
       "  </thead>\n",
       "  <tbody>\n",
       "    <tr>\n",
       "      <th>0</th>\n",
       "      <td>None</td>\n",
       "      <td>Cancelled</td>\n",
       "      <td>Adriel</td>\n",
       "      <td>M</td>\n",
       "      <td>104</td>\n",
       "      <td>Mendoza</td>\n",
       "      <td>None</td>\n",
       "      <td>paid</td>\n",
       "      <td>Kansas City, MO-KS</td>\n",
       "      <td>GET</td>\n",
       "      <td>...</td>\n",
       "      <td>1535623466000</td>\n",
       "      <td>514</td>\n",
       "      <td>None</td>\n",
       "      <td>200</td>\n",
       "      <td>1538943990000</td>\n",
       "      <td>\"Mozilla/5.0 (Macintosh; Intel Mac OS X 10_9_4...</td>\n",
       "      <td>18</td>\n",
       "      <td>2018-10-07 20:26:30</td>\n",
       "      <td>2018-08-30 10:04:26</td>\n",
       "      <td>20</td>\n",
       "    </tr>\n",
       "    <tr>\n",
       "      <th>1</th>\n",
       "      <td>None</td>\n",
       "      <td>Cancelled</td>\n",
       "      <td>Diego</td>\n",
       "      <td>M</td>\n",
       "      <td>56</td>\n",
       "      <td>Mckee</td>\n",
       "      <td>None</td>\n",
       "      <td>paid</td>\n",
       "      <td>Phoenix-Mesa-Scottsdale, AZ</td>\n",
       "      <td>GET</td>\n",
       "      <td>...</td>\n",
       "      <td>1537167593000</td>\n",
       "      <td>540</td>\n",
       "      <td>None</td>\n",
       "      <td>200</td>\n",
       "      <td>1539033046000</td>\n",
       "      <td>\"Mozilla/5.0 (iPhone; CPU iPhone OS 7_1_2 like...</td>\n",
       "      <td>32</td>\n",
       "      <td>2018-10-08 21:10:46</td>\n",
       "      <td>2018-09-17 06:59:53</td>\n",
       "      <td>21</td>\n",
       "    </tr>\n",
       "    <tr>\n",
       "      <th>2</th>\n",
       "      <td>None</td>\n",
       "      <td>Cancelled</td>\n",
       "      <td>Mason</td>\n",
       "      <td>M</td>\n",
       "      <td>10</td>\n",
       "      <td>Hart</td>\n",
       "      <td>None</td>\n",
       "      <td>free</td>\n",
       "      <td>Corpus Christi, TX</td>\n",
       "      <td>GET</td>\n",
       "      <td>...</td>\n",
       "      <td>1533157139000</td>\n",
       "      <td>174</td>\n",
       "      <td>None</td>\n",
       "      <td>200</td>\n",
       "      <td>1539318918000</td>\n",
       "      <td>\"Mozilla/5.0 (Macintosh; Intel Mac OS X 10_9_4...</td>\n",
       "      <td>125</td>\n",
       "      <td>2018-10-12 04:35:18</td>\n",
       "      <td>2018-08-01 20:58:59</td>\n",
       "      <td>4</td>\n",
       "    </tr>\n",
       "    <tr>\n",
       "      <th>3</th>\n",
       "      <td>None</td>\n",
       "      <td>Cancelled</td>\n",
       "      <td>Alexander</td>\n",
       "      <td>M</td>\n",
       "      <td>332</td>\n",
       "      <td>Garcia</td>\n",
       "      <td>None</td>\n",
       "      <td>paid</td>\n",
       "      <td>Indianapolis-Carmel-Anderson, IN</td>\n",
       "      <td>GET</td>\n",
       "      <td>...</td>\n",
       "      <td>1536817381000</td>\n",
       "      <td>508</td>\n",
       "      <td>None</td>\n",
       "      <td>200</td>\n",
       "      <td>1539375441000</td>\n",
       "      <td>Mozilla/5.0 (Windows NT 6.1; WOW64; rv:31.0) G...</td>\n",
       "      <td>105</td>\n",
       "      <td>2018-10-12 20:17:21</td>\n",
       "      <td>2018-09-13 05:43:01</td>\n",
       "      <td>20</td>\n",
       "    </tr>\n",
       "    <tr>\n",
       "      <th>4</th>\n",
       "      <td>None</td>\n",
       "      <td>Cancelled</td>\n",
       "      <td>Kayla</td>\n",
       "      <td>F</td>\n",
       "      <td>273</td>\n",
       "      <td>Johnson</td>\n",
       "      <td>None</td>\n",
       "      <td>paid</td>\n",
       "      <td>Philadelphia-Camden-Wilmington, PA-NJ-DE-MD</td>\n",
       "      <td>GET</td>\n",
       "      <td>...</td>\n",
       "      <td>1538333829000</td>\n",
       "      <td>797</td>\n",
       "      <td>None</td>\n",
       "      <td>200</td>\n",
       "      <td>1539465584000</td>\n",
       "      <td>Mozilla/5.0 (Windows NT 6.1; WOW64; rv:24.0) G...</td>\n",
       "      <td>17</td>\n",
       "      <td>2018-10-13 21:19:44</td>\n",
       "      <td>2018-09-30 18:57:09</td>\n",
       "      <td>21</td>\n",
       "    </tr>\n",
       "  </tbody>\n",
       "</table>\n",
       "<p>5 rows × 21 columns</p>\n",
       "</div>"
      ],
      "text/plain": [
       "  artist       auth  firstName gender  itemInSession lastName length level  \\\n",
       "0   None  Cancelled     Adriel      M            104  Mendoza   None  paid   \n",
       "1   None  Cancelled      Diego      M             56    Mckee   None  paid   \n",
       "2   None  Cancelled      Mason      M             10     Hart   None  free   \n",
       "3   None  Cancelled  Alexander      M            332   Garcia   None  paid   \n",
       "4   None  Cancelled      Kayla      F            273  Johnson   None  paid   \n",
       "\n",
       "                                      location method    ...      \\\n",
       "0                           Kansas City, MO-KS    GET    ...       \n",
       "1                  Phoenix-Mesa-Scottsdale, AZ    GET    ...       \n",
       "2                           Corpus Christi, TX    GET    ...       \n",
       "3             Indianapolis-Carmel-Anderson, IN    GET    ...       \n",
       "4  Philadelphia-Camden-Wilmington, PA-NJ-DE-MD    GET    ...       \n",
       "\n",
       "    registration  sessionId  song status             ts  \\\n",
       "0  1535623466000        514  None    200  1538943990000   \n",
       "1  1537167593000        540  None    200  1539033046000   \n",
       "2  1533157139000        174  None    200  1539318918000   \n",
       "3  1536817381000        508  None    200  1539375441000   \n",
       "4  1538333829000        797  None    200  1539465584000   \n",
       "\n",
       "                                           userAgent userId  \\\n",
       "0  \"Mozilla/5.0 (Macintosh; Intel Mac OS X 10_9_4...     18   \n",
       "1  \"Mozilla/5.0 (iPhone; CPU iPhone OS 7_1_2 like...     32   \n",
       "2  \"Mozilla/5.0 (Macintosh; Intel Mac OS X 10_9_4...    125   \n",
       "3  Mozilla/5.0 (Windows NT 6.1; WOW64; rv:31.0) G...    105   \n",
       "4  Mozilla/5.0 (Windows NT 6.1; WOW64; rv:24.0) G...     17   \n",
       "\n",
       "            event_time    registration_time event_hour  \n",
       "0  2018-10-07 20:26:30  2018-08-30 10:04:26         20  \n",
       "1  2018-10-08 21:10:46  2018-09-17 06:59:53         21  \n",
       "2  2018-10-12 04:35:18  2018-08-01 20:58:59          4  \n",
       "3  2018-10-12 20:17:21  2018-09-13 05:43:01         20  \n",
       "4  2018-10-13 21:19:44  2018-09-30 18:57:09         21  \n",
       "\n",
       "[5 rows x 21 columns]"
      ]
     },
     "execution_count": 13,
     "metadata": {},
     "output_type": "execute_result"
    }
   ],
   "source": [
    "#filter the dataframe with Cancellation events\n",
    "pd.DataFrame(dataset.filter(\"page == 'Cancellation Confirmation'\").take(5), columns = dataset.columns)"
   ]
  },
  {
   "cell_type": "code",
   "execution_count": 14,
   "metadata": {},
   "outputs": [
    {
     "name": "stdout",
     "output_type": "stream",
     "text": [
      "#records are there with active status: 225\n",
      "#records are there with cancelled status: 52\n"
     ]
    }
   ],
   "source": [
    "print(\"#records are there with active status:\",\n",
    "      dataset.filter(\"page != 'Cancellation Confirmation'\").select('userId').distinct().count())\n",
    "print(\"#records are there with cancelled status:\",\n",
    "      dataset.filter(\"page == 'Cancellation Confirmation'\").select('userId').distinct().count())"
   ]
  },
  {
   "cell_type": "code",
   "execution_count": 15,
   "metadata": {},
   "outputs": [
    {
     "data": {
      "text/plain": [
       "52"
      ]
     },
     "execution_count": 15,
     "metadata": {},
     "output_type": "execute_result"
    }
   ],
   "source": [
    "churned_events = dataset.where('page == \"Cancellation Confirmation\"')\n",
    "churned_events.count()"
   ]
  },
  {
   "cell_type": "code",
   "execution_count": 16,
   "metadata": {},
   "outputs": [
    {
     "name": "stdout",
     "output_type": "stream",
     "text": [
      "+------+------+--------------------+----+-----+-------------------+\n",
      "|userId|artist|                page|song|level|         event_time|\n",
      "+------+------+--------------------+----+-----+-------------------+\n",
      "|    18|  null|Cancellation Conf...|null| paid|2018-10-07 20:26:30|\n",
      "|    32|  null|Cancellation Conf...|null| paid|2018-10-08 21:10:46|\n",
      "|   125|  null|Cancellation Conf...|null| free|2018-10-12 04:35:18|\n",
      "|   105|  null|Cancellation Conf...|null| paid|2018-10-12 20:17:21|\n",
      "|    17|  null|Cancellation Conf...|null| paid|2018-10-13 21:19:44|\n",
      "|   143|  null|Cancellation Conf...|null| free|2018-10-15 07:34:14|\n",
      "|   101|  null|Cancellation Conf...|null| paid|2018-10-16 22:30:37|\n",
      "|   129|  null|Cancellation Conf...|null| paid|2018-10-17 00:29:21|\n",
      "|   121|  null|Cancellation Conf...|null| paid|2018-10-17 07:02:29|\n",
      "|    51|  null|Cancellation Conf...|null| paid|2018-10-17 07:39:32|\n",
      "|    87|  null|Cancellation Conf...|null| paid|2018-10-20 15:49:16|\n",
      "|   122|  null|Cancellation Conf...|null| paid|2018-10-20 19:01:08|\n",
      "|    12|  null|Cancellation Conf...|null| paid|2018-10-22 07:29:34|\n",
      "|    58|  null|Cancellation Conf...|null| paid|2018-10-22 15:43:26|\n",
      "|    73|  null|Cancellation Conf...|null| paid|2018-10-24 17:33:07|\n",
      "|     3|  null|Cancellation Conf...|null| paid|2018-10-30 04:59:03|\n",
      "|   106|  null|Cancellation Conf...|null| paid|2018-11-02 13:47:04|\n",
      "|   103|  null|Cancellation Conf...|null| paid|2018-11-04 14:01:31|\n",
      "|    28|  null|Cancellation Conf...|null| paid|2018-11-06 00:20:32|\n",
      "|    54|  null|Cancellation Conf...|null| paid|2018-11-12 19:40:08|\n",
      "+------+------+--------------------+----+-----+-------------------+\n",
      "only showing top 20 rows\n",
      "\n"
     ]
    }
   ],
   "source": [
    "#print users who have Cancellation Confirmation page\n",
    "dataset.where('page == \"Cancellation Confirmation\"').select(['userId','artist','page','song', 'level','event_time']).show()"
   ]
  },
  {
   "cell_type": "code",
   "execution_count": 17,
   "metadata": {},
   "outputs": [
    {
     "data": {
      "text/plain": [
       "[Row(userId='3', artist='Orenda Fink', page='NextSong', song='Miracle Worker', level='paid', event_time='2018-10-03 02:08:54'),\n",
       " Row(userId='3', artist='Barbara Mandrell', page='NextSong', song='Wish You Were Here', level='paid', event_time='2018-10-03 02:14:04'),\n",
       " Row(userId='3', artist='Brazilian Girls', page='NextSong', song='Pussy', level='paid', event_time='2018-10-03 02:16:52'),\n",
       " Row(userId='3', artist='Kimya Dawson', page='NextSong', song='Tire Swing', level='paid', event_time='2018-10-03 02:21:01'),\n",
       " Row(userId='3', artist='Dwight Yoakam', page='NextSong', song=\"You're The One\", level='paid', event_time='2018-10-03 02:24:08'),\n",
       " Row(userId='3', artist='Lil Rob', page='NextSong', song='Playground', level='paid', event_time='2018-10-03 02:28:07'),\n",
       " Row(userId='3', artist='Liquid Tension Experiment', page='NextSong', song='State Of Grace', level='paid', event_time='2018-10-03 02:31:59'),\n",
       " Row(userId='3', artist=\"Martin O'Donnell And Michael Salvatori\", page='NextSong', song='Reclaimer', level='paid', event_time='2018-10-03 02:37:00'),\n",
       " Row(userId='3', artist='Mike And The Mechanics', page='NextSong', song='A Beggar On A Beach Of Gold', level='paid', event_time='2018-10-03 02:40:05'),\n",
       " Row(userId='3', artist='N.E.R.D.', page='NextSong', song='Rock Star', level='paid', event_time='2018-10-03 02:44:40'),\n",
       " Row(userId='3', artist='Olivia Newton-John', page='NextSong', song='Hochmah (Interlude)', level='paid', event_time='2018-10-03 02:48:59'),\n",
       " Row(userId='3', artist='La Mosca Tse-Tse', page='NextSong', song='Patadas En El Corazon', level='paid', event_time='2018-10-03 02:51:11'),\n",
       " Row(userId='3', artist='Brandy', page='NextSong', song='Nothing (album version)', level='paid', event_time='2018-10-03 02:54:26'),\n",
       " Row(userId='3', artist='Roky Erickson', page='NextSong', song='Bloody hammer', level='paid', event_time='2018-10-03 02:59:14'),\n",
       " Row(userId='3', artist='Colbie Caillat', page='NextSong', song='Feelings Show', level='paid', event_time='2018-10-03 03:06:20'),\n",
       " Row(userId='3', artist='Joe Nichols', page='NextSong', song=\"It's Me I'm Worried About\", level='paid', event_time='2018-10-03 03:09:28'),\n",
       " Row(userId='3', artist='Pata Negra', page='NextSong', song='Pasa La Vida', level='paid', event_time='2018-10-03 03:12:33'),\n",
       " Row(userId='3', artist=\"Me'Shell Ndegeocello\", page='NextSong', song='Sweet Love (Album Version)', level='paid', event_time='2018-10-03 03:16:21'),\n",
       " Row(userId='3', artist='Octopus Project', page='NextSong', song='The Way Things Go', level='paid', event_time='2018-10-03 03:21:16'),\n",
       " Row(userId='3', artist=None, page='Home', song=None, level='paid', event_time='2018-10-03 03:24:00'),\n",
       " Row(userId='3', artist='Shakira ft. Wyclef Jean', page='NextSong', song=\"Hips Don't Lie\", level='paid', event_time='2018-10-03 03:28:18'),\n",
       " Row(userId='3', artist='Peabo Bryson', page='NextSong', song='Reaching For The Sky', level='paid', event_time='2018-10-03 03:31:53'),\n",
       " Row(userId='3', artist='Pixies', page='NextSong', song='Subbacultcha', level='paid', event_time='2018-10-03 03:35:58'),\n",
       " Row(userId='3', artist=None, page='Thumbs Up', song=None, level='paid', event_time='2018-10-03 03:35:59'),\n",
       " Row(userId='3', artist='Kollaa KestÃ\\x83Â¤Ã\\x83Â¤', page='NextSong', song='Musti Sotakoira (2007 Digital Remaster)', level='paid', event_time='2018-10-24 10:11:58'),\n",
       " Row(userId='3', artist='Cat Power', page='NextSong', song='Red Apples', level='paid', event_time='2018-10-24 10:13:39'),\n",
       " Row(userId='3', artist='Jennifer Lopez', page='NextSong', song=\"I'm Glad\", level='paid', event_time='2018-10-24 10:18:03'),\n",
       " Row(userId='3', artist='Daughtry', page='NextSong', song='No Surprise', level='paid', event_time='2018-10-24 10:23:52'),\n",
       " Row(userId='3', artist='Rihanna', page='NextSong', song='Fire Bomb', level='paid', event_time='2018-10-24 10:28:01'),\n",
       " Row(userId='3', artist='Carla Bruni', page='NextSong', song='you belong to me', level='paid', event_time='2018-10-24 10:32:18'),\n",
       " Row(userId='3', artist='Bullet For My Valentine', page='NextSong', song='Waking The Demon', level='paid', event_time='2018-10-24 10:35:19'),\n",
       " Row(userId='3', artist='Five Iron Frenzy', page='NextSong', song='Canada', level='paid', event_time='2018-10-24 10:39:26'),\n",
       " Row(userId='3', artist='William Shatner', page='NextSong', song=\"I Can't Get Behind That\", level='paid', event_time='2018-10-24 10:43:22'),\n",
       " Row(userId='3', artist='Nelly / Paul Wall / Ali & Gipp', page='NextSong', song='Grillz', level='paid', event_time='2018-10-24 10:46:22'),\n",
       " Row(userId='3', artist='Kid Cudi / MGMT / Ratatat', page='NextSong', song='Pursuit Of Happiness (nightmare)', level='paid', event_time='2018-10-24 10:50:54'),\n",
       " Row(userId='3', artist=None, page='Help', song=None, level='paid', event_time='2018-10-24 10:54:38'),\n",
       " Row(userId='3', artist='Radiohead', page='NextSong', song='Just', level='paid', event_time='2018-10-24 10:55:49'),\n",
       " Row(userId='3', artist=None, page='Logout', song=None, level='paid', event_time='2018-10-24 10:55:50'),\n",
       " Row(userId='3', artist=None, page='Home', song=None, level='paid', event_time='2018-10-24 11:20:34'),\n",
       " Row(userId='3', artist='Easy Star All-Stars', page='NextSong', song='Money (featuring Gary \"Nesta\" Pine & Dollarman)', level='paid', event_time='2018-10-24 11:24:32'),\n",
       " Row(userId='3', artist=None, page='Thumbs Up', song=None, level='paid', event_time='2018-10-24 11:24:33'),\n",
       " Row(userId='3', artist='Le Loup', page='NextSong', song='We Are Gods! We Are Wolves!', level='paid', event_time='2018-10-24 11:30:58'),\n",
       " Row(userId='3', artist='Amp Fiddler', page='NextSong', song='Unconditional Eyes', level='paid', event_time='2018-10-24 11:34:14'),\n",
       " Row(userId='3', artist='Dance Hall Crashers', page='NextSong', song='DHC', level='paid', event_time='2018-10-24 11:38:56'),\n",
       " Row(userId='3', artist=None, page='Thumbs Up', song=None, level='paid', event_time='2018-10-24 11:38:57'),\n",
       " Row(userId='3', artist='Creedence Clearwater Revival', page='NextSong', song='Fortunate Son', level='paid', event_time='2018-10-24 11:41:38'),\n",
       " Row(userId='3', artist='Porter Wagoner', page='NextSong', song=\"Eat Drink and Be Merry [ Tomorrow You'll Cry ]\", level='paid', event_time='2018-10-24 11:43:56'),\n",
       " Row(userId='3', artist=None, page='Thumbs Up', song=None, level='paid', event_time='2018-10-24 11:43:57'),\n",
       " Row(userId='3', artist=\"Diam's\", page='NextSong', song='Dans Ma Bulle (Edit Radio - Live 2006)', level='paid', event_time='2018-10-24 11:46:21'),\n",
       " Row(userId='3', artist='The White Stripes', page='NextSong', song='Seven Nation Army', level='paid', event_time='2018-10-24 11:50:31'),\n",
       " Row(userId='3', artist='Matt Nathanson', page='NextSong', song='Still', level='paid', event_time='2018-10-24 11:54:23'),\n",
       " Row(userId='3', artist='Queens Of The Stone Age', page='NextSong', song='Sick_ Sick_ Sick', level='paid', event_time='2018-10-24 11:58:14'),\n",
       " Row(userId='3', artist='Kid Cudi Vs Crookers', page='NextSong', song=\"Day 'N' Nite\", level='paid', event_time='2018-10-24 12:01:48'),\n",
       " Row(userId='3', artist='The Killers', page='NextSong', song='Somebody Told Me', level='paid', event_time='2018-10-24 12:04:30'),\n",
       " Row(userId='3', artist=None, page='Thumbs Up', song=None, level='paid', event_time='2018-10-24 12:04:31'),\n",
       " Row(userId='3', artist='Aaliyah', page='NextSong', song='At Your Best You Are Love', level='paid', event_time='2018-10-24 12:07:47'),\n",
       " Row(userId='3', artist='Wilco', page='NextSong', song='Jesus_ Etc.', level='paid', event_time='2018-10-24 12:12:36'),\n",
       " Row(userId='3', artist='Carcass', page='NextSong', song='Vomited Anal Tract', level='paid', event_time='2018-10-24 12:16:35'),\n",
       " Row(userId='3', artist='The Sugarhill Gang', page='NextSong', song='The Word Is Out', level='paid', event_time='2018-10-24 12:18:20'),\n",
       " Row(userId='3', artist='Dam Funk', page='NextSong', song='LAtrifying', level='paid', event_time='2018-10-24 12:24:01'),\n",
       " Row(userId='3', artist='Dropkick Murphys', page='NextSong', song='The Nutrocker', level='paid', event_time='2018-10-24 12:28:13'),\n",
       " Row(userId='3', artist='Monsters of Liedermaching', page='NextSong', song='Weltklassemelodie', level='paid', event_time='2018-10-24 12:29:30'),\n",
       " Row(userId='3', artist='Ladytron', page='NextSong', song='Destroy Everything You Touch', level='paid', event_time='2018-10-24 12:32:49'),\n",
       " Row(userId='3', artist='Feist', page='NextSong', song='Past In Present', level='paid', event_time='2018-10-24 12:36:41'),\n",
       " Row(userId='3', artist='Billy Ray Cyrus', page='NextSong', song='Achy Breaky Heart', level='paid', event_time='2018-10-24 12:39:33'),\n",
       " Row(userId='3', artist='Cloud Cult', page='NextSong', song='A Good God', level='paid', event_time='2018-10-24 12:42:57'),\n",
       " Row(userId='3', artist=None, page='Add Friend', song=None, level='paid', event_time='2018-10-24 12:42:58'),\n",
       " Row(userId='3', artist='Nirvana', page='NextSong', song='The Man Who Sold The World', level='paid', event_time='2018-10-24 12:45:31'),\n",
       " Row(userId='3', artist='The Velvet Underground / Nico', page='NextSong', song=\"All Tomorrow's Parties\", level='paid', event_time='2018-10-24 12:49:51'),\n",
       " Row(userId='3', artist='Jason Mraz & Colbie Caillat', page='NextSong', song='Lucky (Album Version)', level='paid', event_time='2018-10-24 12:55:51'),\n",
       " Row(userId='3', artist='Jack Johnson', page='NextSong', song='All At Once', level='paid', event_time='2018-10-24 12:59:00'),\n",
       " Row(userId='3', artist=None, page='Home', song=None, level='paid', event_time='2018-10-24 13:00:23'),\n",
       " Row(userId='3', artist='Alien Ant Farm', page='NextSong', song='Smooth Criminal', level='paid', event_time='2018-10-26 17:16:32'),\n",
       " Row(userId='3', artist='Victor Jara', page='NextSong', song='Que Alegres Son Las Obreras (1997 Digital Remaster)', level='paid', event_time='2018-10-26 17:20:01'),\n",
       " Row(userId='3', artist='Dwight Yoakam', page='NextSong', song=\"You're The One\", level='paid', event_time='2018-10-26 17:23:17'),\n",
       " Row(userId='3', artist='Mogwai', page='NextSong', song='Stop Coming To My House', level='paid', event_time='2018-10-26 17:27:16'),\n",
       " Row(userId='3', artist=None, page='Thumbs Up', song=None, level='paid', event_time='2018-10-26 17:27:17'),\n",
       " Row(userId='3', artist='Junior Murvin', page='NextSong', song='Bad Weed', level='paid', event_time='2018-10-26 17:32:09'),\n",
       " Row(userId='3', artist=None, page='Thumbs Up', song=None, level='paid', event_time='2018-10-26 17:32:10'),\n",
       " Row(userId='3', artist='Colossal', page='NextSong', song='Brave The Elements', level='paid', event_time='2018-10-26 17:40:30'),\n",
       " Row(userId='3', artist='Something Corporate', page='NextSong', song='Not What It Seems', level='paid', event_time='2018-10-26 17:43:56'),\n",
       " Row(userId='3', artist='Eminem', page='NextSong', song='Cum On Everybody', level='paid', event_time='2018-10-26 17:47:14'),\n",
       " Row(userId='3', artist='Amy Winehouse', page='NextSong', song='Amy Amy Amy / Outro', level='paid', event_time='2018-10-26 17:50:53'),\n",
       " Row(userId='3', artist='Black Eyed Peas', page='NextSong', song='Hey Mama', level='paid', event_time='2018-10-26 18:04:09'),\n",
       " Row(userId='3', artist=None, page='Thumbs Up', song=None, level='paid', event_time='2018-10-26 18:04:10'),\n",
       " Row(userId='3', artist='Los Fabulosos Cadillacs', page='NextSong', song='Siguiendo La Luna', level='paid', event_time='2018-10-26 18:07:43'),\n",
       " Row(userId='3', artist='Elvis Costello', page='NextSong', song='Beautiful', level='paid', event_time='2018-10-26 18:12:18'),\n",
       " Row(userId='3', artist='The Killers', page='NextSong', song=\"Andy_ You're A Star\", level='paid', event_time='2018-10-26 18:16:08'),\n",
       " Row(userId='3', artist='The Script', page='NextSong', song='Breakeven', level='paid', event_time='2018-10-26 18:19:22'),\n",
       " Row(userId='3', artist='The Black Keys', page='NextSong', song='Tighten Up', level='paid', event_time='2018-10-26 18:23:42'),\n",
       " Row(userId='3', artist=None, page='Home', song=None, level='paid', event_time='2018-10-26 18:24:53'),\n",
       " Row(userId='3', artist='Dee Dee Sharp', page='NextSong', song='Mashed Potato Time', level='paid', event_time='2018-10-26 18:27:13'),\n",
       " Row(userId='3', artist='Stone Temple Pilots', page='NextSong', song='Dead & Bloated (LP Version)', level='paid', event_time='2018-10-26 18:29:50'),\n",
       " Row(userId='3', artist=None, page='Thumbs Down', song=None, level='paid', event_time='2018-10-26 18:29:51'),\n",
       " Row(userId='3', artist='Better Luck Next Time', page='NextSong', song='Second Chances', level='paid', event_time='2018-10-26 18:35:00'),\n",
       " Row(userId='3', artist='The Cover Girls', page='NextSong', song='Wishing On A Star', level='paid', event_time='2018-10-26 18:39:55'),\n",
       " Row(userId='3', artist='Holy Fuck', page='NextSong', song='The Pulse', level='paid', event_time='2018-10-26 18:44:37'),\n",
       " Row(userId='3', artist='Kid Cudi', page='NextSong', song='Simple As...', level='paid', event_time='2018-10-26 18:50:33'),\n",
       " Row(userId='3', artist='Melpo Mene', page='NextSong', song='Society', level='paid', event_time='2018-10-26 18:53:04'),\n",
       " Row(userId='3', artist='Britney Spears', page='NextSong', song='The Beat Goes On', level='paid', event_time='2018-10-26 18:55:51'),\n",
       " Row(userId='3', artist='Leona Lewis', page='NextSong', song='Forgive Me', level='paid', event_time='2018-10-26 18:59:34'),\n",
       " Row(userId='3', artist='Frumpies', page='NextSong', song='Fuck Kitty', level='paid', event_time='2018-10-26 19:02:57'),\n",
       " Row(userId='3', artist='Andrew Bird', page='NextSong', song='Natural Disaster', level='paid', event_time='2018-10-26 19:05:11'),\n",
       " Row(userId='3', artist='Lil Wayne / Eminem', page='NextSong', song='Drop The World', level='paid', event_time='2018-10-26 19:09:26'),\n",
       " Row(userId='3', artist='Lifehouse', page='NextSong', song='First Time', level='paid', event_time='2018-10-26 19:13:15'),\n",
       " Row(userId='3', artist='Bill Withers', page='NextSong', song='Make Love To Your Mind', level='paid', event_time='2018-10-26 19:16:38'),\n",
       " Row(userId='3', artist='LCD Soundsystem', page='NextSong', song='Movement', level='paid', event_time='2018-10-26 19:23:01'),\n",
       " Row(userId='3', artist='Dropkick Murphys', page='NextSong', song='Wild Rover', level='paid', event_time='2018-10-26 19:26:04'),\n",
       " Row(userId='3', artist=None, page='Add to Playlist', song=None, level='paid', event_time='2018-10-26 19:34:37'),\n",
       " Row(userId='3', artist='Cosmic Gate', page='NextSong', song='A Mile In My Shoes ft. Sir Adrian', level='paid', event_time='2018-10-26 19:38:26'),\n",
       " Row(userId='3', artist='Michael Cretu', page='NextSong', song='The Invisible Man', level='paid', event_time='2018-10-26 19:45:40'),\n",
       " Row(userId='3', artist='Los Rodriguez', page='NextSong', song='Me Estas Atrapando Otra Vez', level='paid', event_time='2018-10-26 19:50:41'),\n",
       " Row(userId='3', artist='Damero feat. Nevis Peak', page='NextSong', song='Gestern_Morgen', level='paid', event_time='2018-10-26 19:55:56'),\n",
       " Row(userId='3', artist='Sanctus Real', page='NextSong', song='Alone', level='paid', event_time='2018-10-26 20:01:52'),\n",
       " Row(userId='3', artist='Erasure', page='NextSong', song='Sucker For Love (Extended Mix)', level='paid', event_time='2018-10-26 20:06:12'),\n",
       " Row(userId='3', artist='Maxi Priest', page='NextSong', song=\"Groovin' In The Midnight\", level='paid', event_time='2018-10-26 20:12:50'),\n",
       " Row(userId='3', artist='Trey Songz', page='NextSong', song='Love Lost (Album Version)', level='paid', event_time='2018-10-26 20:17:51'),\n",
       " Row(userId='3', artist='Bitter Sweet', page='NextSong', song='Drama', level='paid', event_time='2018-10-26 20:21:34'),\n",
       " Row(userId='3', artist='HAMMERFALL', page='NextSong', song='Trailblazers', level='paid', event_time='2018-10-26 20:25:36'),\n",
       " Row(userId='3', artist='No Doubt', page='NextSong', song='Start The Fire', level='paid', event_time='2018-10-26 20:31:14'),\n",
       " Row(userId='3', artist='Beirut', page='NextSong', song='Elephant Gun', level='paid', event_time='2018-10-26 20:35:25'),\n",
       " Row(userId='3', artist='Dave Brockie Experience', page='NextSong', song='Damn That Money', level='paid', event_time='2018-10-26 20:41:10'),\n",
       " Row(userId='3', artist='The Cure', page='NextSong', song=\"Boys Don't Cry\", level='paid', event_time='2018-10-26 20:43:22'),\n",
       " Row(userId='3', artist='Kings Of Leon', page='NextSong', song='Use Somebody', level='paid', event_time='2018-10-26 20:46:03'),\n",
       " Row(userId='3', artist='Joan Osborne', page='NextSong', song='One Of Us', level='paid', event_time='2018-10-26 20:49:54'),\n",
       " Row(userId='3', artist='Dwight Yoakam', page='NextSong', song=\"You're The One\", level='paid', event_time='2018-10-26 20:55:10'),\n",
       " Row(userId='3', artist='Harry Gregson-Williams', page='NextSong', song='Bullet Tells The Truth', level='paid', event_time='2018-10-26 20:59:09'),\n",
       " Row(userId='3', artist='3 Doors Down', page='NextSong', song='Ticket To Heaven', level='paid', event_time='2018-10-26 21:00:44'),\n",
       " Row(userId='3', artist='The Boxer Rebellion', page='NextSong', song='Misplaced (Album Version)', level='paid', event_time='2018-10-26 21:04:12'),\n",
       " Row(userId='3', artist=None, page='Thumbs Up', song=None, level='paid', event_time='2018-10-26 21:04:13'),\n",
       " Row(userId='3', artist='Penguin CafÃ\\x83Â© Orchestra', page='NextSong', song='Harmonic Necklace (2008 Digital Remaster)', level='paid', event_time='2018-10-26 21:10:26'),\n",
       " Row(userId='3', artist='Siniestro Total', page='NextSong', song='Rock En Samil', level='paid', event_time='2018-10-26 21:11:39'),\n",
       " Row(userId='3', artist=None, page='Thumbs Up', song=None, level='paid', event_time='2018-10-26 21:11:40'),\n",
       " Row(userId='3', artist='Vinylshakerz', page='NextSong', song='Tekkno Trash', level='paid', event_time='2018-10-26 21:14:02'),\n",
       " Row(userId='3', artist='Miike Snow', page='NextSong', song='Animal', level='paid', event_time='2018-10-26 21:20:26'),\n",
       " Row(userId='3', artist='Seal', page='NextSong', song=\"Don't Cry\", level='paid', event_time='2018-10-26 21:24:49'),\n",
       " Row(userId='3', artist='Dirty Pretty Things', page='NextSong', song='Kicks Or Consumption', level='paid', event_time='2018-10-26 21:29:19'),\n",
       " Row(userId='3', artist='Lagwagon', page='NextSong', song='Creepy', level='paid', event_time='2018-10-26 21:32:51'),\n",
       " Row(userId='3', artist='Rush', page='NextSong', song='Closer To The Heart', level='paid', event_time='2018-10-26 21:34:23'),\n",
       " Row(userId='3', artist=None, page='Thumbs Up', song=None, level='paid', event_time='2018-10-26 21:34:24'),\n",
       " Row(userId='3', artist='Rage Against The Machine', page='NextSong', song='Sleep Now In The Fire', level='paid', event_time='2018-10-26 21:37:14'),\n",
       " Row(userId='3', artist='John Mayer', page='NextSong', song='Half Of My Heart', level='paid', event_time='2018-10-26 21:40:39'),\n",
       " Row(userId='3', artist=\"Ultra DJ's\", page='NextSong', song='That Look', level='paid', event_time='2018-10-26 21:44:49'),\n",
       " Row(userId='3', artist='Devics', page='NextSong', song='Just One Breath', level='paid', event_time='2018-10-26 21:52:11'),\n",
       " Row(userId='3', artist=None, page='Home', song=None, level='paid', event_time='2018-10-26 21:53:41'),\n",
       " Row(userId='3', artist='Morcheeba', page='NextSong', song=\"Rome Wasn't Built In A Day\", level='paid', event_time='2018-10-26 21:56:06'),\n",
       " Row(userId='3', artist=None, page='Logout', song=None, level='paid', event_time='2018-10-26 21:56:07'),\n",
       " Row(userId='3', artist=None, page='Home', song=None, level='paid', event_time='2018-10-26 22:09:26'),\n",
       " Row(userId='3', artist='Raekwon (Prod. By Pete Rock)', page='NextSong', song=\"Sonny's Missing\", level='paid', event_time='2018-10-26 22:20:21'),\n",
       " Row(userId='3', artist='Alter Bridge', page='NextSong', song='Watch Over You', level='paid', event_time='2018-10-26 22:22:49'),\n",
       " Row(userId='3', artist='Pixies', page='NextSong', song='Where Is My Mind?', level='paid', event_time='2018-10-26 22:27:12'),\n",
       " Row(userId='3', artist='Daft Punk', page='NextSong', song='Something About Us', level='paid', event_time='2018-10-26 22:31:01'),\n",
       " Row(userId='3', artist='Wolfsheim', page='NextSong', song='Once In A Lifetime', level='paid', event_time='2018-10-26 22:34:50'),\n",
       " Row(userId='3', artist='The Young Rascals', page='NextSong', song=\"Groovin'  (Single Version)\", level='paid', event_time='2018-10-26 22:38:31'),\n",
       " Row(userId='3', artist='William Fitzsimmons', page='NextSong', song=\"I Don't Feel It Anymore (Song Of The Sparrow)\", level='paid', event_time='2018-10-26 22:41:01'),\n",
       " Row(userId='3', artist='Triumvirat', page='NextSong', song='Waterfall', level='paid', event_time='2018-10-26 22:44:31'),\n",
       " Row(userId='3', artist='Cartola', page='NextSong', song='Sala De RecepÃ\\x83Â§Ã\\x83Â£o', level='paid', event_time='2018-10-26 22:49:25'),\n",
       " Row(userId='3', artist='Ed Harcourt', page='NextSong', song='Deathsexmarch', level='paid', event_time='2018-10-26 22:52:53'),\n",
       " Row(userId='3', artist='Shinedown', page='NextSong', song='Some Day (Album Version)', level='paid', event_time='2018-10-26 22:54:10'),\n",
       " Row(userId='3', artist='Skream', page='NextSong', song='Colourful', level='paid', event_time='2018-10-26 22:57:22'),\n",
       " Row(userId='3', artist='RÃ\\x83Â¶yksopp', page='NextSong', song='What Else is There ? (Thin white duke mix)', level='paid', event_time='2018-10-26 23:02:34'),\n",
       " Row(userId='3', artist=None, page='Add to Playlist', song=None, level='paid', event_time='2018-10-26 23:02:45'),\n",
       " Row(userId='3', artist='Slayer', page='NextSong', song='Angel Of Death', level='paid', event_time='2018-10-26 23:10:59'),\n",
       " Row(userId='3', artist='Bullet For My Valentine', page='NextSong', song='Hearts Burst Into Fire', level='paid', event_time='2018-10-26 23:15:50'),\n",
       " Row(userId='3', artist=None, page='Thumbs Down', song=None, level='paid', event_time='2018-10-26 23:15:51'),\n",
       " Row(userId='3', artist='3OH!3 featuring Neon Hitch', page='NextSong', song='Follow Me Down', level='paid', event_time='2018-10-26 23:20:50'),\n",
       " Row(userId='3', artist='Amelia Curran', page='NextSong', song='Fold', level='paid', event_time='2018-10-26 23:24:13'),\n",
       " Row(userId='3', artist='Shinedown', page='NextSong', song='What A Shame (Album Version)', level='paid', event_time='2018-10-26 23:27:44'),\n",
       " Row(userId='3', artist='Scandinavian Music Group', page='NextSong', song='Kun Puut Tekee SeittiÃ\\x83Â¤', level='paid', event_time='2018-10-26 23:32:02'),\n",
       " Row(userId='3', artist='Shwayze', page='NextSong', song='Polaroid', level='paid', event_time='2018-10-26 23:41:06'),\n",
       " Row(userId='3', artist=None, page='Thumbs Down', song=None, level='paid', event_time='2018-10-26 23:41:07'),\n",
       " Row(userId='3', artist='The Buggles', page='NextSong', song='Video Killed The Radio Star', level='paid', event_time='2018-10-26 23:45:52'),\n",
       " Row(userId='3', artist='Soilwork', page='NextSong', song='Distortion Sleep', level='paid', event_time='2018-10-26 23:49:10'),\n",
       " Row(userId='3', artist='Los Fabulosos Cadillacs', page='NextSong', song='Siguiendo La Luna', level='paid', event_time='2018-10-26 23:52:55'),\n",
       " Row(userId='3', artist='Manu Chao', page='NextSong', song='Piccola Radiolina', level='paid', event_time='2018-10-26 23:57:30'),\n",
       " Row(userId='3', artist=None, page='Home', song=None, level='paid', event_time='2018-10-27 00:06:38'),\n",
       " Row(userId='3', artist='Aaron Shust', page='NextSong', song='Create Again', level='paid', event_time='2018-10-27 00:14:59'),\n",
       " Row(userId='3', artist='Three Days Grace', page='NextSong', song='I Hate Everything About You', level='paid', event_time='2018-10-27 00:20:02'),\n",
       " Row(userId='3', artist='Andrew Gold', page='NextSong', song='Thank You for Being a Friend', level='paid', event_time='2018-10-27 00:23:54'),\n",
       " Row(userId='3', artist='Lynyrd Skynyrd', page='NextSong', song='Sweet home Alabama', level='paid', event_time='2018-10-27 00:28:36'),\n",
       " Row(userId='3', artist='Tiziano Ferro', page='NextSong', song='Perdona', level='paid', event_time='2018-10-27 00:32:12'),\n",
       " Row(userId='3', artist='The Bloody Beetroots', page='NextSong', song='Warp 1.9 (feat. Steve Aoki)', level='paid', event_time='2018-10-27 00:36:14'),\n",
       " Row(userId='3', artist=None, page='Logout', song=None, level='paid', event_time='2018-10-27 00:36:15'),\n",
       " Row(userId='3', artist=None, page='Home', song=None, level='paid', event_time='2018-10-27 00:43:06'),\n",
       " Row(userId='3', artist='Railroad Earth', page='NextSong', song='Long Way To Go', level='paid', event_time='2018-10-27 00:45:15'),\n",
       " Row(userId='3', artist='MÃ\\x83Â\\xadcheÃ\\x83Â¡l Ã\\x83Â\\x93 SÃ\\x83ÂºilleabhÃ\\x83Â¡in', page='NextSong', song='King Of The Blind: (I) The Fairy Queen / (II) King Of The Blind / (III) Planxty Irwin', level='paid', event_time='2018-10-27 00:49:45'),\n",
       " Row(userId='3', artist=\"Plain White T's\", page='NextSong', song='Hey There Delilah', level='paid', event_time='2018-10-27 01:02:20'),\n",
       " Row(userId='3', artist='Barry Tuckwell/Academy of St Martin-in-the-Fields/Sir Neville Marriner', page='NextSong', song='Horn Concerto No. 4 in E flat K495: II. Romance (Andante cantabile)', level='paid', event_time='2018-10-27 01:06:12'),\n",
       " Row(userId='3', artist='Disturbed', page='NextSong', song='Numb (Album Version)', level='paid', event_time='2018-10-27 01:10:49'),\n",
       " Row(userId='3', artist='Steppenwolf', page='NextSong', song='Magic Carpet Ride', level='paid', event_time='2018-10-27 01:14:33'),\n",
       " Row(userId='3', artist='Ramones', page='NextSong', song='I Wanna Be Sedated (Remastered Album Version )', level='paid', event_time='2018-10-27 01:19:03'),\n",
       " Row(userId='3', artist='Ala Dos Namorados', page='NextSong', song='As Linhas Da PaixÃ\\x83Â£o', level='paid', event_time='2018-10-27 01:21:32'),\n",
       " Row(userId='3', artist='Disturbed', page='NextSong', song='The Game (Amended Version)', level='paid', event_time='2018-10-27 01:24:37'),\n",
       " Row(userId='3', artist='Madeleine Peyroux', page='NextSong', song='Damn The Circumstances', level='paid', event_time='2018-10-27 01:28:23'),\n",
       " Row(userId='3', artist=None, page='Add to Playlist', song=None, level='paid', event_time='2018-10-27 01:31:56'),\n",
       " Row(userId='3', artist='Two Door Cinema Club', page='NextSong', song='Undercover Martyn', level='paid', event_time='2018-10-27 01:32:58'),\n",
       " Row(userId='3', artist='Grant Green', page='NextSong', song='Hurt So Bad', level='paid', event_time='2018-10-27 01:35:46'),\n",
       " Row(userId='3', artist='Smokie Norful', page='NextSong', song='The Least I Can Do', level='paid', event_time='2018-10-27 01:42:37'),\n",
       " Row(userId='3', artist='In Flames', page='NextSong', song='Come Clarity', level='paid', event_time='2018-10-27 01:48:38'),\n",
       " Row(userId='3', artist='Armin van Buuren', page='NextSong', song='What If', level='paid', event_time='2018-10-27 01:52:53'),\n",
       " Row(userId='3', artist='Billy Talent', page='NextSong', song='Devil In A Midnight Mass', level='paid', event_time='2018-10-27 02:00:47'),\n",
       " Row(userId='3', artist='Javi Lopez', page='NextSong', song='Dynamic Structures', level='paid', event_time='2018-10-27 02:03:42'),\n",
       " Row(userId='3', artist='Kate Nash', page='NextSong', song='Pumpkin Soup', level='paid', event_time='2018-10-27 02:10:12'),\n",
       " Row(userId='3', artist='T.I.', page='NextSong', song='Dead And Gone [feat. Justin Timberlake] (Explicit Album Version)', level='paid', event_time='2018-10-27 02:13:11'),\n",
       " Row(userId='3', artist='Joaquin Phoenix', page='NextSong', song='I Walk The Line', level='paid', event_time='2018-10-27 02:18:10'),\n",
       " Row(userId='3', artist='New Found Glory', page='NextSong', song='the king of wishful thinking', level='paid', event_time='2018-10-27 02:21:30'),\n",
       " Row(userId='3', artist=None, page='About', song=None, level='paid', event_time='2018-10-27 02:22:33'),\n",
       " Row(userId='3', artist='Fleet Foxes', page='NextSong', song='Sun Giant', level='paid', event_time='2018-10-30 01:50:52'),\n",
       " Row(userId='3', artist='Radiohead', page='NextSong', song='Sit Down. Stand Up', level='paid', event_time='2018-10-30 01:53:06'),\n",
       " Row(userId='3', artist='Black Star Liner', page='NextSong', song='Dark Shadow', level='paid', event_time='2018-10-30 01:57:26'),\n",
       " Row(userId='3', artist='Body Count', page='NextSong', song='Bring It To Pain (Explicit)', level='paid', event_time='2018-10-30 02:00:30'),\n",
       " Row(userId='3', artist='Band Of Horses', page='NextSong', song=\"No One's Gonna Love You (Album)\", level='paid', event_time='2018-10-30 02:04:57'),\n",
       " Row(userId='3', artist='Charttraxx Karaoke', page='NextSong', song='Fireflies', level='paid', event_time='2018-10-30 02:08:34'),\n",
       " Row(userId='3', artist=None, page='Roll Advert', song=None, level='paid', event_time='2018-10-30 02:16:32'),\n",
       " Row(userId='3', artist='Amon Amarth', page='NextSong', song='Embrace Of The Endless Ocean', level='paid', event_time='2018-10-30 02:17:35'),\n",
       " Row(userId='3', artist='John Mayer', page='NextSong', song='Good Love Is On The Way', level='paid', event_time='2018-10-30 02:24:12'),\n",
       " Row(userId='3', artist='Andrew Bird', page='NextSong', song='Skin Is_ My', level='paid', event_time='2018-10-30 02:28:30'),\n",
       " Row(userId='3', artist='Todd Barry', page='NextSong', song='Sugar Ray (LP Version)', level='paid', event_time='2018-10-30 02:33:46'),\n",
       " Row(userId='3', artist='Metallica', page='NextSong', song='Enter Sandman', level='paid', event_time='2018-10-30 02:35:52'),\n",
       " Row(userId='3', artist=None, page='Add to Playlist', song=None, level='paid', event_time='2018-10-30 02:37:26'),\n",
       " Row(userId='3', artist='Banaroo', page='NextSong', song='In The Name Of Love', level='paid', event_time='2018-10-30 02:41:25'),\n",
       " Row(userId='3', artist='Ruben Blades', page='NextSong', song='Decisiones', level='paid', event_time='2018-10-30 02:44:37'),\n",
       " Row(userId='3', artist='BeyoncÃ\\x83Â©', page='NextSong', song='Halo', level='paid', event_time='2018-10-30 02:50:02'),\n",
       " Row(userId='3', artist='BeyoncÃ\\x83Â©', page='NextSong', song='Get Me Bodied', level='paid', event_time='2018-10-30 02:54:23'),\n",
       " Row(userId='3', artist='Obie Bermudez', page='NextSong', song='Antes', level='paid', event_time='2018-10-30 03:00:37'),\n",
       " Row(userId='3', artist='Bright Eyes', page='NextSong', song='True Blue', level='paid', event_time='2018-10-30 03:04:14'),\n",
       " Row(userId='3', artist='Bruce Dickinson', page='NextSong', song='Road To Hell', level='paid', event_time='2018-10-30 03:09:55'),\n",
       " Row(userId='3', artist='Florence + The Machine', page='NextSong', song='Hardest Of Hearts', level='paid', event_time='2018-10-30 03:13:52'),\n",
       " Row(userId='3', artist='Radiohead', page='NextSong', song='Everything In Its Right Place', level='paid', event_time='2018-10-30 03:17:18'),\n",
       " Row(userId='3', artist='Kings Of Leon', page='NextSong', song='Trunk', level='paid', event_time='2018-10-30 03:21:27'),\n",
       " Row(userId='3', artist='Underworld', page='NextSong', song='Dark & Long', level='paid', event_time='2018-10-30 03:25:24'),\n",
       " Row(userId='3', artist='Josh Turner', page='NextSong', song='Long Black Train', level='paid', event_time='2018-10-30 03:36:18'),\n",
       " Row(userId='3', artist='Shakira Featuring Wyclef Jean', page='NextSong', song=\"Hips Don't Lie (featuring Wyclef Jean)\", level='paid', event_time='2018-10-30 03:40:30'),\n",
       " Row(userId='3', artist='Jack Johnson', page='NextSong', song='If I Could', level='paid', event_time='2018-10-30 03:44:07'),\n",
       " Row(userId='3', artist=None, page='Thumbs Up', song=None, level='paid', event_time='2018-10-30 03:44:08'),\n",
       " Row(userId='3', artist='OneRepublic', page='NextSong', song='All The Right Moves', level='paid', event_time='2018-10-30 03:46:32'),\n",
       " Row(userId='3', artist='The Killers', page='NextSong', song='Uncle Jonny', level='paid', event_time='2018-10-30 03:50:29'),\n",
       " Row(userId='3', artist='Audioslave', page='NextSong', song='Like A Stone', level='paid', event_time='2018-10-30 03:54:54'),\n",
       " Row(userId='3', artist=\"L'Ã\\x83Â¢me Immortelle\", page='NextSong', song='Brother Against Brother', level='paid', event_time='2018-10-30 03:59:49'),\n",
       " Row(userId='3', artist='Sub Focus', page='NextSong', song='Could This Be Real (Joker Remix)', level='paid', event_time='2018-10-30 04:05:16'),\n",
       " Row(userId='3', artist=None, page='Thumbs Up', song=None, level='paid', event_time='2018-10-30 04:05:17'),\n",
       " Row(userId='3', artist='The Thermals', page='NextSong', song='Back to the Sea', level='paid', event_time='2018-10-30 04:09:27'),\n",
       " Row(userId='3', artist='Edgar Winter', page='NextSong', song='Dying To Live', level='paid', event_time='2018-10-30 04:13:58'),\n",
       " Row(userId='3', artist='Randy Crawford', page='NextSong', song='Almaz', level='paid', event_time='2018-10-30 04:18:01'),\n",
       " Row(userId='3', artist='Mariah Carey', page='NextSong', song=\"I'll Be There\", level='paid', event_time='2018-10-30 04:22:31'),\n",
       " Row(userId='3', artist='Crosby_ Stills & Nash', page='NextSong', song='Guinnevere [Remastered LP Version]', level='paid', event_time='2018-10-30 04:26:54'),\n",
       " Row(userId='3', artist='Ron Carter', page='NextSong', song=\"I CAN'T GET STARTED\", level='paid', event_time='2018-10-30 04:31:31'),\n",
       " Row(userId='3', artist=None, page='Thumbs Up', song=None, level='paid', event_time='2018-10-30 04:31:32'),\n",
       " Row(userId='3', artist='Fantan Mojah', page='NextSong', song='Hail The King', level='paid', event_time='2018-10-30 04:39:48'),\n",
       " Row(userId='3', artist='Ornette Coleman', page='NextSong', song='Chronology (LP Version)', level='paid', event_time='2018-10-30 04:43:25'),\n",
       " Row(userId='3', artist=None, page='Downgrade', song=None, level='paid', event_time='2018-10-30 04:46:14'),\n",
       " Row(userId='3', artist=None, page='Downgrade', song=None, level='paid', event_time='2018-10-30 04:49:38'),\n",
       " Row(userId='3', artist=None, page='Cancel', song=None, level='paid', event_time='2018-10-30 04:49:39'),\n",
       " Row(userId='3', artist=None, page='Cancellation Confirmation', song=None, level='paid', event_time='2018-10-30 04:59:03')]"
      ]
     },
     "execution_count": 17,
     "metadata": {},
     "output_type": "execute_result"
    }
   ],
   "source": [
    "#select random user from above output and explore his behavior\n",
    "dataset.where(\"userId == 3\").select(['userId','artist','page','song', 'level','event_time']).collect()"
   ]
  },
  {
   "cell_type": "markdown",
   "metadata": {},
   "source": [
    "As we can see the above user, spends a lot of time in the system as Paid user before ending his subscription. Even in some cases. the goal now will be to predict this event of cancelling or ending the subscription."
   ]
  },
  {
   "cell_type": "code",
   "execution_count": 18,
   "metadata": {},
   "outputs": [
    {
     "data": {
      "text/plain": [
       "278154"
      ]
     },
     "execution_count": 18,
     "metadata": {},
     "output_type": "execute_result"
    }
   ],
   "source": [
    "#create a churn flag column, where some user has already cancelled the services. In order to do the same we will first\n",
    "#may need to find out the users who churned from the system.\n",
    "churned_users = dataset.where(dataset.auth==\"Cancelled\").select(\"userId\").distinct()\n",
    "\n",
    "#creating a list of users who churned\n",
    "churned_users_list = [(row['userId']) for row in churned_users.collect()]\n",
    "\n",
    "#assigning 1 to the event of churn, 0 otherwise.\n",
    "churned_dataset = dataset.withColumn(\"churned\", when(col(\"userId\").isin(churned_users_list),1).otherwise(0))\n",
    "\n",
    "churned_dataset.count()"
   ]
  },
  {
   "cell_type": "code",
   "execution_count": 19,
   "metadata": {
    "scrolled": false
   },
   "outputs": [
    {
     "name": "stdout",
     "output_type": "stream",
     "text": [
      "root\n",
      " |-- artist: string (nullable = true)\n",
      " |-- auth: string (nullable = true)\n",
      " |-- firstName: string (nullable = true)\n",
      " |-- gender: string (nullable = true)\n",
      " |-- itemInSession: long (nullable = true)\n",
      " |-- lastName: string (nullable = true)\n",
      " |-- length: double (nullable = true)\n",
      " |-- level: string (nullable = true)\n",
      " |-- location: string (nullable = true)\n",
      " |-- method: string (nullable = true)\n",
      " |-- page: string (nullable = true)\n",
      " |-- registration: long (nullable = true)\n",
      " |-- sessionId: long (nullable = true)\n",
      " |-- song: string (nullable = true)\n",
      " |-- status: long (nullable = true)\n",
      " |-- ts: long (nullable = true)\n",
      " |-- userAgent: string (nullable = true)\n",
      " |-- userId: string (nullable = true)\n",
      " |-- event_time: string (nullable = true)\n",
      " |-- registration_time: string (nullable = true)\n",
      " |-- event_hour: string (nullable = true)\n",
      " |-- churned: integer (nullable = false)\n",
      "\n"
     ]
    }
   ],
   "source": [
    "#Churn column added\n",
    "churned_dataset.printSchema()"
   ]
  },
  {
   "cell_type": "code",
   "execution_count": 20,
   "metadata": {
    "scrolled": true
   },
   "outputs": [
    {
     "name": "stdout",
     "output_type": "stream",
     "text": [
      "+-------+-----+\n",
      "|churned|count|\n",
      "+-------+-----+\n",
      "|      1|   52|\n",
      "|      0|  173|\n",
      "+-------+-----+\n",
      "\n"
     ]
    }
   ],
   "source": [
    "#checking count of users churned/ non-churned\n",
    "churned_dataset.select(['userId','churned']).distinct().groupBy('churned').count().show()"
   ]
  },
  {
   "cell_type": "code",
   "execution_count": 21,
   "metadata": {},
   "outputs": [
    {
     "name": "stdout",
     "output_type": "stream",
     "text": [
      "+--------------------+\n",
      "|                page|\n",
      "+--------------------+\n",
      "|              Cancel|\n",
      "|    Submit Downgrade|\n",
      "|         Thumbs Down|\n",
      "|                Home|\n",
      "|           Downgrade|\n",
      "|         Roll Advert|\n",
      "|              Logout|\n",
      "|       Save Settings|\n",
      "|Cancellation Conf...|\n",
      "|               About|\n",
      "|            Settings|\n",
      "|     Add to Playlist|\n",
      "|          Add Friend|\n",
      "|            NextSong|\n",
      "|           Thumbs Up|\n",
      "|                Help|\n",
      "|             Upgrade|\n",
      "|               Error|\n",
      "|      Submit Upgrade|\n",
      "+--------------------+\n",
      "\n"
     ]
    }
   ],
   "source": [
    "#pages found in dataset\n",
    "churned_dataset.select('page').dropDuplicates().show()"
   ]
  },
  {
   "cell_type": "code",
   "execution_count": 22,
   "metadata": {
    "scrolled": true
   },
   "outputs": [
    {
     "data": {
      "image/png": "[encoded data removed]",
      "text/plain": [
       "<matplotlib.figure.Figure at 0x7f8aa0d88c18>"
      ]
     },
     "metadata": {
      "needs_background": "light"
     },
     "output_type": "display_data"
    }
   ],
   "source": [
    "lifetime_pd = churned_dataset.where('page == \"NextSong\" OR page == \"Thumbs Up\"').groupby(['userId', 'churned', 'gender', 'page']).count().toPandas()\n",
    "lifetime_pd = lifetime_pd.pivot_table(index=['userId','churned','gender'], values='count', columns='page').reset_index()\n",
    "ax = sns.boxplot(data=lifetime_pd, x='churned', y='NextSong', hue='gender',color='r')\n",
    "plt.legend(title='Gender', loc='best')\n",
    "sns.despine(ax=ax);"
   ]
  },
  {
   "cell_type": "markdown",
   "metadata": {},
   "source": [
    "**Customer lifetime songs listened didn\\'t vary a lot**"
   ]
  },
  {
   "cell_type": "markdown",
   "metadata": {},
   "source": [
    "- Customer lifetime stats"
   ]
  },
  {
   "cell_type": "code",
   "execution_count": 23,
   "metadata": {},
   "outputs": [
    {
     "data": {
      "image/png": "[encoded data removed]",
      "text/plain": [
       "<matplotlib.figure.Figure at 0x7f8aa0d852b0>"
      ]
     },
     "metadata": {
      "needs_background": "light"
     },
     "output_type": "display_data"
    }
   ],
   "source": [
    "ax = sns.boxplot(data=lifetime_pd, x='churned', y='Thumbs Up', hue='gender',color='r')\n",
    "plt.legend(title='Gender', loc='best')\n",
    "sns.despine(ax=ax);"
   ]
  },
  {
   "cell_type": "markdown",
   "metadata": {},
   "source": [
    "**Customer Thumbs UP songs count liked didn\\'t vary a lot also**"
   ]
  },
  {
   "cell_type": "markdown",
   "metadata": {},
   "source": [
    "- Churn pattern between genders"
   ]
  },
  {
   "cell_type": "code",
   "execution_count": 24,
   "metadata": {},
   "outputs": [
    {
     "data": {
      "image/png": "[encoded data removed]",
      "text/plain": [
       "<matplotlib.figure.Figure at 0x7f8aa08a58d0>"
      ]
     },
     "metadata": {
      "needs_background": "light"
     },
     "output_type": "display_data"
    }
   ],
   "source": [
    "data = churned_dataset.dropDuplicates([\"userId\", \"gender\"]).groupby([\"churned\", \"gender\"]).count().sort(\"churned\").toPandas()\n",
    "sns.barplot(x=\"churned\", y=\"count\", hue=\"gender\", data=data);"
   ]
  },
  {
   "cell_type": "markdown",
   "metadata": {},
   "source": [
    "**Male customers are slightly likely to churn**"
   ]
  },
  {
   "cell_type": "code",
   "execution_count": 25,
   "metadata": {},
   "outputs": [
    {
     "data": {
      "image/png": "[encoded data removed]",
      "text/plain": [
       "<matplotlib.figure.Figure at 0x7f8aabe99f60>"
      ]
     },
     "metadata": {
      "needs_background": "light"
     },
     "output_type": "display_data"
    }
   ],
   "source": [
    "data=churned_dataset.select(['userId', 'level', 'churned']).distinct().groupBy(['churned','level']).count().sort('churned').toPandas()\n",
    "sns.barplot(x=\"level\", y=\"count\", hue=\"churned\", data=data);"
   ]
  },
  {
   "cell_type": "markdown",
   "metadata": {},
   "source": [
    "**Churn usually happens when a customer is using a free plan which may feels not commited to continue using the service**"
   ]
  },
  {
   "cell_type": "markdown",
   "metadata": {},
   "source": [
    "- Songs activity per session"
   ]
  },
  {
   "cell_type": "code",
   "execution_count": 26,
   "metadata": {},
   "outputs": [
    {
     "data": {
      "image/png": "[encoded data removed]",
      "text/plain": [
       "<matplotlib.figure.Figure at 0x7f8aa08de9b0>"
      ]
     },
     "metadata": {
      "needs_background": "light"
     },
     "output_type": "display_data"
    }
   ],
   "source": [
    "data=churned_dataset.select(['userId', 'sessionId', 'churned']).distinct().groupBy('churned').count().sort('churned').toPandas()\n",
    "sns.barplot(x=\"churned\", y=\"count\", data=data);"
   ]
  },
  {
   "cell_type": "markdown",
   "metadata": {},
   "source": [
    "**Loyal users spend more sessions in the service more than users who later**"
   ]
  },
  {
   "cell_type": "code",
   "execution_count": 27,
   "metadata": {},
   "outputs": [
    {
     "data": {
      "image/png": "[encoded data removed]",
      "text/plain": [
       "<matplotlib.figure.Figure at 0x7f8aa0724f60>"
      ]
     },
     "metadata": {
      "needs_background": "light"
     },
     "output_type": "display_data"
    }
   ],
   "source": [
    "data=churned_dataset.where('page=\"NextSong\"').select(['userId', 'churned']).distinct().groupBy(\n",
    "    'churned').count().sort('churned').toPandas()\n",
    "sns.barplot(x=\"churned\", y=\"count\", data=data);"
   ]
  },
  {
   "cell_type": "markdown",
   "metadata": {},
   "source": [
    "**unchurned users listens to more songs than churned users**"
   ]
  },
  {
   "cell_type": "code",
   "execution_count": 28,
   "metadata": {},
   "outputs": [
    {
     "data": {
      "image/png": "[encoded data removed]",
      "text/plain": [
       "<matplotlib.figure.Figure at 0x7f8aa62d2c50>"
      ]
     },
     "metadata": {
      "needs_background": "light"
     },
     "output_type": "display_data"
    }
   ],
   "source": [
    "songs_played_hour = churned_dataset.filter(\"page == 'NextSong'\").groupBy(\"event_hour\").count().orderBy(churned_dataset.event_hour.cast(\"float\")).toPandas()\n",
    "songs_played_hour.plot(kind = \"line\", figsize= (10,5))\n",
    "plt.title(\"Number of Songs Played per hour through the day\")\n",
    "plt.ylabel(\"#Played songs per hour\")\n",
    "plt.xlabel(\"Day hour\")\n",
    "plt.show();"
   ]
  },
  {
   "cell_type": "markdown",
   "metadata": {},
   "source": [
    "**Day hours have a high activity than night hours**"
   ]
  },
  {
   "cell_type": "markdown",
   "metadata": {},
   "source": [
    "# Feature Engineering\n",
    "Once you've familiarized yourself with the data, build out the features you find promising to train your model on. To work with the full dataset, you can follow the following steps.\n",
    "- Write a script to extract the necessary features from the smaller subset of data\n",
    "- Ensure that your script is scalable, using the best practices discussed in Lesson 3\n",
    "- Try your script on the full data set, debugging your script if necessary\n",
    "\n",
    "If you are working in the classroom workspace, you can just extract features based on the small subset of data contained here. Be sure to transfer over this work to the larger dataset when you work on your Spark cluster."
   ]
  },
  {
   "cell_type": "markdown",
   "metadata": {},
   "source": [
    "- The feature engineering step going to focus on find promising features for model training and the following features will be on eye:\n",
    "    - Total songs played\n",
    "    - Total number of days\n",
    "    - Total Listining\n",
    "    - Average session songs user\n",
    "    - Total number of Thumps Up/Down\n",
    "    - Total songs added to playlist"
   ]
  },
  {
   "cell_type": "markdown",
   "metadata": {},
   "source": [
    "**- Total Songs Played**   \n",
    "The more songs the user listened, the more time the user spent with our service, the deeper engagement the user have, leading to less chance to churn."
   ]
  },
  {
   "cell_type": "code",
   "execution_count": 29,
   "metadata": {},
   "outputs": [
    {
     "name": "stdout",
     "output_type": "stream",
     "text": [
      "+-------+------------------+------------------+\n",
      "|summary|            userId|total_songs_played|\n",
      "+-------+------------------+------------------+\n",
      "|  count|               225|               225|\n",
      "|   mean|65391.013333333336|1013.8133333333334|\n",
      "| stddev|105396.47791907164|1104.9607785540886|\n",
      "|    min|                10|                 3|\n",
      "|    max|                99|              8002|\n",
      "+-------+------------------+------------------+\n",
      "\n"
     ]
    }
   ],
   "source": [
    "total_songs_played = churned_dataset.filter(\"page == 'NextSong'\").groupBy(\"userId\").count()\n",
    "total_songs_played = total_songs_played.withColumnRenamed('count', 'total_songs_played')\n",
    "total_songs_played.describe().show()"
   ]
  },
  {
   "cell_type": "markdown",
   "metadata": {},
   "source": [
    "**- Total number of days**   \n",
    "the time length since the user registered. It may reflect the user engagement, loyality"
   ]
  },
  {
   "cell_type": "code",
   "execution_count": 30,
   "metadata": {},
   "outputs": [
    {
     "name": "stdout",
     "output_type": "stream",
     "text": [
      "+-------+------------------+-------------------+\n",
      "|summary|            userId|           lifetime|\n",
      "+-------+------------------+-------------------+\n",
      "|  count|               225|                225|\n",
      "|   mean|65391.013333333336|   79.8456834876543|\n",
      "| stddev|105396.47791907164|  37.66147001861254|\n",
      "|    min|                10|0.31372685185185184|\n",
      "|    max|                99|  256.3776736111111|\n",
      "+-------+------------------+-------------------+\n",
      "\n"
     ]
    }
   ],
   "source": [
    "total_days = churned_dataset \\\n",
    "    .select('userId','registration','ts') \\\n",
    "    .withColumn('lifetime',(churned_dataset.ts-churned_dataset.registration)) \\\n",
    "    .groupBy('userId') \\\n",
    "    .agg({'lifetime':'max'}) \\\n",
    "    .withColumnRenamed('max(lifetime)','lifetime') \\\n",
    "    .select('userId', (col('lifetime')/1000/3600/24).alias('lifetime'))\n",
    "total_days.describe().show()"
   ]
  },
  {
   "cell_type": "markdown",
   "metadata": {},
   "source": [
    "**- Total Listening**"
   ]
  },
  {
   "cell_type": "code",
   "execution_count": 31,
   "metadata": {},
   "outputs": [
    {
     "name": "stdout",
     "output_type": "stream",
     "text": [
      "+-------+------------------+------------------+\n",
      "|summary|            userID|       listen_time|\n",
      "+-------+------------------+------------------+\n",
      "|  count|               225|               225|\n",
      "|   mean|65391.013333333336|252558.32065155543|\n",
      "| stddev|105396.47791907164| 275396.4038847635|\n",
      "|    min|                10|         691.66884|\n",
      "|    max|                99|1991154.9155799907|\n",
      "+-------+------------------+------------------+\n",
      "\n"
     ]
    }
   ],
   "source": [
    "total_listening = churned_dataset.select('userID','length').groupBy('userID').sum().withColumnRenamed('sum(length)', 'listen_time')\n",
    "total_listening.describe().show()"
   ]
  },
  {
   "cell_type": "markdown",
   "metadata": {},
   "source": [
    "**- Average session songs per user**"
   ]
  },
  {
   "cell_type": "code",
   "execution_count": 32,
   "metadata": {},
   "outputs": [
    {
     "name": "stdout",
     "output_type": "stream",
     "text": [
      "+-------+------------------+----------------------+\n",
      "|summary|            userId|avg_session_songs_user|\n",
      "+-------+------------------+----------------------+\n",
      "|  count|               225|                   225|\n",
      "|   mean|65391.013333333336|     70.78971233958933|\n",
      "| stddev|105396.47791907164|      42.6153697543817|\n",
      "|    min|                10|                   3.0|\n",
      "|    max|                99|     286.6666666666667|\n",
      "+-------+------------------+----------------------+\n",
      "\n"
     ]
    }
   ],
   "source": [
    "user_session_songs = churned_dataset.where(churned_dataset.page==\"NextSong\").groupby(\"userId\", \"sessionId\").count()\n",
    "avg_session_songs_user_df = user_session_songs.groupby(\"userId\").agg(avg(user_session_songs[\"count\"]).alias(\"avg_session_songs_user\"))\n",
    "avg_session_songs_user_df.describe().show()"
   ]
  },
  {
   "cell_type": "markdown",
   "metadata": {},
   "source": [
    "**- Total number of Thumbs Up/Down**   \n",
    "They may reflect two perspectives, our service quality and user engagement."
   ]
  },
  {
   "cell_type": "code",
   "execution_count": 33,
   "metadata": {},
   "outputs": [],
   "source": [
    "thumbup_activity_df = churned_dataset.where(churned_dataset.page==\"Thumbs Up\").groupby(\"userId\").count()\n",
    "thumbup_activity_df = thumbup_activity_df.withColumnRenamed('count', 'thumbup_total_number')"
   ]
  },
  {
   "cell_type": "code",
   "execution_count": 34,
   "metadata": {},
   "outputs": [],
   "source": [
    "thumbdown_activity_df = churned_dataset.where(churned_dataset.page==\"Thumbs Down\").groupby(\"userId\").count()\n",
    "thumbdown_activity_df = thumbdown_activity_df.withColumnRenamed('count', 'thumbdown_total_number')"
   ]
  },
  {
   "cell_type": "code",
   "execution_count": 35,
   "metadata": {},
   "outputs": [
    {
     "name": "stdout",
     "output_type": "stream",
     "text": [
      "+-------+------------------+--------------------+----------------------+\n",
      "|summary|            userId|thumbup_total_number|thumbdown_total_number|\n",
      "+-------+------------------+--------------------+----------------------+\n",
      "|  count|               202|                 202|                   202|\n",
      "|   mean| 65898.11881188118|  61.727722772277225|    12.599009900990099|\n",
      "| stddev|106344.86643154913|   66.55286398973522|    13.205705046721134|\n",
      "|    min|                10|                   1|                     1|\n",
      "|    max|                99|                 437|                    75|\n",
      "+-------+------------------+--------------------+----------------------+\n",
      "\n"
     ]
    }
   ],
   "source": [
    "activities = thumbup_activity_df.join(thumbdown_activity_df, on ='userId', how = 'inner')\n",
    "activities.describe().show()"
   ]
  },
  {
   "cell_type": "markdown",
   "metadata": {},
   "source": [
    "**- Total songs added to playlist**"
   ]
  },
  {
   "cell_type": "code",
   "execution_count": 36,
   "metadata": {},
   "outputs": [
    {
     "name": "stdout",
     "output_type": "stream",
     "text": [
      "+-------+------------------+-----------------+\n",
      "|summary|            userID|  add_to_playlist|\n",
      "+-------+------------------+-----------------+\n",
      "|  count|               215|              215|\n",
      "|   mean| 66103.63720930232|30.35348837209302|\n",
      "| stddev|106360.47999565038| 32.8520568555997|\n",
      "|    min|                10|                1|\n",
      "|    max|                99|              240|\n",
      "+-------+------------------+-----------------+\n",
      "\n"
     ]
    }
   ],
   "source": [
    "playlisted_songs = churned_dataset.select('userID','page').where(\n",
    "    churned_dataset.page == 'Add to Playlist').groupBy('userID').count().withColumnRenamed('count', 'add_to_playlist')\n",
    "playlisted_songs.describe().show()"
   ]
  },
  {
   "cell_type": "code",
   "execution_count": 37,
   "metadata": {},
   "outputs": [
    {
     "name": "stdout",
     "output_type": "stream",
     "text": [
      "+-------+------------------+------------------+\n",
      "|summary|            userId|             label|\n",
      "+-------+------------------+------------------+\n",
      "|  count|               225|               225|\n",
      "|   mean|65391.013333333336|0.2311111111111111|\n",
      "| stddev|105396.47791907164|0.4224832108996326|\n",
      "|    min|                10|                 0|\n",
      "|    max|                99|                 1|\n",
      "+-------+------------------+------------------+\n",
      "\n"
     ]
    }
   ],
   "source": [
    "# Churn label\n",
    "label = churned_dataset.select('userId', col('churned').alias('label')).dropDuplicates()\n",
    "label.describe().show()"
   ]
  },
  {
   "cell_type": "code",
   "execution_count": 38,
   "metadata": {},
   "outputs": [
    {
     "name": "stdout",
     "output_type": "stream",
     "text": [
      "+------------------+------------------+------------------+----------------------+--------------------+----------------------+---------------+-----+\n",
      "|total_songs_played|          lifetime|       listen_time|avg_session_songs_user|thumbup_total_number|thumbdown_total_number|add_to_playlist|label|\n",
      "+------------------+------------------+------------------+----------------------+--------------------+----------------------+---------------+-----+\n",
      "|               275|  55.6436574074074| 66940.89735000003|    39.285714285714285|                  17|                     5|              7|    0|\n",
      "|               387| 70.07462962962963| 94008.87593999993|                  64.5|                  21|                     6|              8|    0|\n",
      "|              4079|131.55591435185184|1012312.0927899999|    145.67857142857142|                 171|                    41|            118|    0|\n",
      "|              2111|19.455844907407407| 523275.8428000004|                 211.1|                 100|                    21|             52|    1|\n",
      "|               150| 72.77818287037037| 38034.08710000002|    21.428571428571427|                   7|                     1|              5|    0|\n",
      "+------------------+------------------+------------------+----------------------+--------------------+----------------------+---------------+-----+\n",
      "only showing top 5 rows\n",
      "\n"
     ]
    }
   ],
   "source": [
    "#joining feature together\n",
    "processed_data = total_songs_played.join(total_days,'userID','inner') \\\n",
    "    .join(total_listening,'userID','inner') \\\n",
    "    .join(avg_session_songs_user_df,'userID','inner') \\\n",
    "    .join(activities,'userID','inner') \\\n",
    "    .join(playlisted_songs,'userID','inner') \\\n",
    "    .join(label,'userID','inner') \\\n",
    "    .drop('userID') \\\n",
    "    .fillna(0)\n",
    "\n",
    "processed_data.show(5)"
   ]
  },
  {
   "cell_type": "code",
   "execution_count": 39,
   "metadata": {},
   "outputs": [
    {
     "name": "stdout",
     "output_type": "stream",
     "text": [
      "root\n",
      " |-- total_songs_played: long (nullable = false)\n",
      " |-- lifetime: double (nullable = false)\n",
      " |-- listen_time: double (nullable = false)\n",
      " |-- avg_session_songs_user: double (nullable = false)\n",
      " |-- thumbup_total_number: long (nullable = false)\n",
      " |-- thumbdown_total_number: long (nullable = false)\n",
      " |-- add_to_playlist: long (nullable = false)\n",
      " |-- label: integer (nullable = false)\n",
      "\n"
     ]
    }
   ],
   "source": [
    "processed_data.printSchema()"
   ]
  },
  {
   "cell_type": "markdown",
   "metadata": {},
   "source": [
    "# Modeling\n",
    "Split the full dataset into train, test, and validation sets. Test out several of the machine learning methods you learned. Evaluate the accuracy of the various models, tuning parameters as necessary. Determine your winning model based on test accuracy and report results on the validation set. Since the churned users are a fairly small subset, I suggest using F1 score as the metric to optimize."
   ]
  },
  {
   "cell_type": "markdown",
   "metadata": {},
   "source": [
    "- The modeling phase will with following steps:\n",
    "    - Data preprocessing like vectorizing and scaling\n",
    "    - train model using training dataset\n",
    "    - tune model using validation dataset\n",
    "    - test best model selected based on validation dataset on test dataset."
   ]
  },
  {
   "cell_type": "markdown",
   "metadata": {},
   "source": [
    "### Preprocessing data"
   ]
  },
  {
   "cell_type": "code",
   "execution_count": 40,
   "metadata": {
    "scrolled": true
   },
   "outputs": [],
   "source": [
    "# vectorizing features\n",
    "cols = [\"total_songs_played\",\"lifetime\", \"listen_time\", \"avg_session_songs_user\",\n",
    "        'thumbup_total_number','thumbdown_total_number','add_to_playlist']\n",
    "assembler = VectorAssembler(inputCols=cols, outputCol=\"NumFeatures\")\n",
    "vectorized_data = assembler.transform(processed_data)"
   ]
  },
  {
   "cell_type": "markdown",
   "metadata": {},
   "source": [
    "Standardizing the features by taking off the mean and divided by the standard deviation of each feature."
   ]
  },
  {
   "cell_type": "code",
   "execution_count": 41,
   "metadata": {},
   "outputs": [],
   "source": [
    "# standard scaler\n",
    "scaler = StandardScaler(inputCol=\"NumFeatures\", outputCol=\"features\", withStd=True)\n",
    "scalerModel = scaler.fit(vectorized_data)\n",
    "data = scalerModel.transform(vectorized_data)"
   ]
  },
  {
   "cell_type": "markdown",
   "metadata": {},
   "source": [
    "Splitting data into train, validation, and test sets to be 60%, 20%, 20% as follow"
   ]
  },
  {
   "cell_type": "code",
   "execution_count": 42,
   "metadata": {},
   "outputs": [],
   "source": [
    "# train test split\n",
    "train, rest = data.randomSplit([0.6, 0.4], seed=42)\n",
    "validation, test = rest.randomSplit([0.5, 0.5], seed=42)"
   ]
  },
  {
   "cell_type": "markdown",
   "metadata": {},
   "source": [
    "### Training\n",
    "- The training phase focuses passing training data by cross validation to some classifier like:\n",
    "    - Logistic Regression\n",
    "    - Random Forest\n",
    "    - Decision Tree\n",
    "    - Gradient Boosted Trees "
   ]
  },
  {
   "cell_type": "markdown",
   "metadata": {},
   "source": [
    "#### Logistic Regression"
   ]
  },
  {
   "cell_type": "code",
   "execution_count": 48,
   "metadata": {},
   "outputs": [
    {
     "name": "stdout",
     "output_type": "stream",
     "text": [
      "Training the Logistic Regression Model...\n",
      "That took 1052.871725320816 Seconds\n"
     ]
    }
   ],
   "source": [
    "print(\"Training the Logistic Regression Model...\")\n",
    "start_time = time()\n",
    "lr = LogisticRegression()\n",
    "# set evaluator\n",
    "f1_evaluator = MulticlassClassificationEvaluator(metricName='f1')\n",
    "# build paramGrid\n",
    "paramGrid = ParamGridBuilder().build()\n",
    "#set cross validation\n",
    "crossval_lr = CrossValidator(estimator=lr,estimatorParamMaps=paramGrid,evaluator=f1_evaluator,numFolds=5)\n",
    "#fitting the model\n",
    "lr_model = crossval_lr.fit(train)        \n",
    "training_time = (time() - start_time)\n",
    "print(\"That took %s Seconds\" % (time() - start_time))"
   ]
  },
  {
   "cell_type": "code",
   "execution_count": 49,
   "metadata": {},
   "outputs": [
    {
     "name": "stdout",
     "output_type": "stream",
     "text": [
      "F-1 Score:0.5606060606060606\n"
     ]
    }
   ],
   "source": [
    "results_lr = lr_model.transform(validation)\n",
    "evaluator = MulticlassClassificationEvaluator(predictionCol=\"prediction\")\n",
    "print('F-1 Score:{}'.format(evaluator.evaluate(results_lr, {evaluator.metricName: \"f1\"})))"
   ]
  },
  {
   "cell_type": "markdown",
   "metadata": {},
   "source": [
    "#### Random Forest"
   ]
  },
  {
   "cell_type": "code",
   "execution_count": 53,
   "metadata": {},
   "outputs": [
    {
     "name": "stdout",
     "output_type": "stream",
     "text": [
      "Training the Random Forest Model...\n",
      "That took 416.1676433086395 Seconds\n"
     ]
    }
   ],
   "source": [
    "print(\"Training the Random Forest Model...\")\n",
    "start_time = time()\n",
    "# initialize classifier\n",
    "rf = RandomForestClassifier()\n",
    "# build paramGrid\n",
    "paramGrid = ParamGridBuilder().build()\n",
    "# set evaluator\n",
    "f1_evaluator = MulticlassClassificationEvaluator(metricName='f1')\n",
    "crossval_rf = CrossValidator(estimator=rf,estimatorParamMaps=paramGrid,evaluator=f1_evaluator,numFolds=5)\n",
    "#fitting the model\n",
    "rf_model = crossval_rf.fit(train)        \n",
    "training_time = (time() - start_time)\n",
    "print(\"That took %s Seconds\" % (time() - start_time))"
   ]
  },
  {
   "cell_type": "code",
   "execution_count": 54,
   "metadata": {},
   "outputs": [
    {
     "name": "stdout",
     "output_type": "stream",
     "text": [
      "F-1 Score:0.5606060606060606\n"
     ]
    }
   ],
   "source": [
    "results_rf = rf_model.transform(validation)\n",
    "evaluator = MulticlassClassificationEvaluator(predictionCol=\"prediction\")\n",
    "print('F-1 Score:{}'.format(evaluator.evaluate(results_rf, {evaluator.metricName: \"f1\"})))"
   ]
  },
  {
   "cell_type": "markdown",
   "metadata": {},
   "source": [
    "#### DecisionTree Machine"
   ]
  },
  {
   "cell_type": "code",
   "execution_count": 43,
   "metadata": {},
   "outputs": [
    {
     "name": "stdout",
     "output_type": "stream",
     "text": [
      "Training the DecisionTree Model...\n",
      "That took 381.37851881980896 Seconds\n"
     ]
    }
   ],
   "source": [
    "print(\"Training the DecisionTree Model...\")\n",
    "start_time = time()\n",
    "# initialize classifier\n",
    "dt = DecisionTreeClassifier()\n",
    "# build paramGrid\n",
    "paramGrid = ParamGridBuilder().build()\n",
    "# set evaluator\n",
    "f1_evaluator = MulticlassClassificationEvaluator(metricName='f1')\n",
    "crossval_dt = CrossValidator(estimator=dt,estimatorParamMaps=paramGrid,evaluator=f1_evaluator,numFolds=5)\n",
    "#fitting the model\n",
    "dt_model = crossval_dt.fit(train)        \n",
    "training_time = (time() - start_time)\n",
    "print(\"That took %s Seconds\" % (time() - start_time))"
   ]
  },
  {
   "cell_type": "code",
   "execution_count": 44,
   "metadata": {},
   "outputs": [
    {
     "name": "stdout",
     "output_type": "stream",
     "text": [
      "F-1 Score:0.8084415584415583\n"
     ]
    }
   ],
   "source": [
    "results_dt = dt_model.transform(validation)\n",
    "evaluator = MulticlassClassificationEvaluator(predictionCol=\"prediction\")\n",
    "print('F-1 Score:{}'.format(evaluator.evaluate(results_dt, {evaluator.metricName: \"f1\"})))"
   ]
  },
  {
   "cell_type": "markdown",
   "metadata": {},
   "source": [
    "#### Gradient Boosted Trees"
   ]
  },
  {
   "cell_type": "code",
   "execution_count": 42,
   "metadata": {},
   "outputs": [
    {
     "name": "stdout",
     "output_type": "stream",
     "text": [
      "Training the GBT Model...\n",
      "That took 1978.1320247650146 Seconds\n"
     ]
    }
   ],
   "source": [
    "print(\"Training the GBT Model...\")\n",
    "start_time = time()\n",
    "# initialize classifier\n",
    "gbt = GBTClassifier()\n",
    "# build paramGrid\n",
    "paramGrid = ParamGridBuilder().build()\n",
    "# set evaluator\n",
    "f1_evaluator = MulticlassClassificationEvaluator(metricName='f1')\n",
    "crossval_gbt = CrossValidator(estimator=gbt,estimatorParamMaps=paramGrid,evaluator=f1_evaluator,numFolds=5)\n",
    "#fitting the model\n",
    "gbt_model = crossval_gbt.fit(train)        \n",
    "training_time = (time() - start_time)\n",
    "print(\"That took %s Seconds\" % (time() - start_time))"
   ]
  },
  {
   "cell_type": "code",
   "execution_count": 43,
   "metadata": {},
   "outputs": [
    {
     "name": "stdout",
     "output_type": "stream",
     "text": [
      "F-1 Score:0.9075369075369075\n"
     ]
    }
   ],
   "source": [
    "results_gbt = gbt_model.transform(validation)\n",
    "evaluator = MulticlassClassificationEvaluator(predictionCol=\"prediction\")\n",
    "print('F-1 Score:{}'.format(evaluator.evaluate(results_gbt, {evaluator.metricName: \"f1\"})))"
   ]
  },
  {
   "cell_type": "markdown",
   "metadata": {},
   "source": [
    "#### Model summary:\n",
    "- Results:\n",
    "    - The ```LogisticRegression``` model got F1 score of:0.56, in 1052 seconds.\n",
    "    - The ```RandomForestClassifier``` model got F1 score of: 0.56, in 416 seconds.\n",
    "    - The ```DecisionTreeClassifier``` model got F1 score of: 0.81, in 381 seconds.\n",
    "    - The ```GBTClassifier``` model got F1 score of: 0.90, in 2065 seconds. \n",
    "- Based on above resluts we can assuem the models with **0.56** F1 score as **baseline models** and start to improve from it. \n",
    "- Although we do care about time resources, but since the data size is still reletively small, and the performance difference is huge, we will prefer the model that perform the best. Therefore, we choose **GBT** model as our final used model and conduct a grid search to fine tune our model this time.\n"
   ]
  },
  {
   "cell_type": "markdown",
   "metadata": {},
   "source": [
    "#### Model Refinement\n",
    "In this step we going to use grid search and works on investigating ```maxDepth``` and ```maxIter``` features on GBT model with same number of folds and evaluate them with F1 score metric also"
   ]
  },
  {
   "cell_type": "code",
   "execution_count": 59,
   "metadata": {},
   "outputs": [
    {
     "data": {
      "text/plain": [
       "[0.7801330133748134, 0.77409765983946, 0.7824388496037553, 0.7824388496037553]"
      ]
     },
     "execution_count": 59,
     "metadata": {},
     "output_type": "execute_result"
    }
   ],
   "source": [
    "# build paramGrid\n",
    "paramGrid_gbt = ParamGridBuilder().addGrid(\n",
    "    gbt.maxDepth,[5, 10]).addGrid(\n",
    "    gbt.maxIter, [10,20]).build()\n",
    "\n",
    "# set evaluator\n",
    "f1_evaluator = MulticlassClassificationEvaluator(metricName='f1')\n",
    "\n",
    "crossval_gbt = CrossValidator(estimator=gbt,\n",
    "                          estimatorParamMaps=paramGrid_gbt,\n",
    "                          evaluator=f1_evaluator,\n",
    "                          numFolds=5)\n",
    "model = crossval_gbt.fit(train)\n",
    "model.avgMetrics"
   ]
  },
  {
   "cell_type": "markdown",
   "metadata": {},
   "source": [
    "#### Model Selection and Evaluation"
   ]
  },
  {
   "cell_type": "markdown",
   "metadata": {},
   "source": [
    "##### Best Model"
   ]
  },
  {
   "cell_type": "code",
   "execution_count": 43,
   "metadata": {},
   "outputs": [],
   "source": [
    "gbt_best = GBTClassifier(maxIter=20,maxDepth=5)\n",
    "gbt_best_model = gbt_best.fit(train)\n",
    "results_final = gbt_best_model.transform(test) #predict with test data"
   ]
  },
  {
   "cell_type": "markdown",
   "metadata": {},
   "source": [
    "#### Evaluation with test data"
   ]
  },
  {
   "cell_type": "code",
   "execution_count": 44,
   "metadata": {},
   "outputs": [
    {
     "name": "stdout",
     "output_type": "stream",
     "text": [
      "Test set results:\n",
      "F-1 Score:0.7004800307219663\n"
     ]
    }
   ],
   "source": [
    "evaluator = MulticlassClassificationEvaluator(predictionCol=\"prediction\")\n",
    "print('Test set results:')\n",
    "print('F-1 Score:{}'.format(evaluator.evaluate(results_final, {evaluator.metricName: \"f1\"})))"
   ]
  },
  {
   "cell_type": "markdown",
   "metadata": {},
   "source": [
    "Exploring the features importance"
   ]
  },
  {
   "cell_type": "code",
   "execution_count": 45,
   "metadata": {},
   "outputs": [
    {
     "data": {
      "image/png": "[encoded data removed]",
      "text/plain": [
       "<matplotlib.figure.Figure at 0x7f8aaf2f82e8>"
      ]
     },
     "metadata": {
      "needs_background": "light"
     },
     "output_type": "display_data"
    }
   ],
   "source": [
    "features_importance = gbt_best_model.featureImportances.values\n",
    "y_pos = np.arange(len(cols))\n",
    "\n",
    "plt.barh(y_pos, features_importance, align='center')\n",
    "plt.yticks(y_pos, cols)\n",
    "plt.xlabel('Importance Score')\n",
    "plt.title('GBT Feature Importances');"
   ]
  },
  {
   "cell_type": "markdown",
   "metadata": {},
   "source": [
    "- From the graph above we can easily observe these features as the most important features which can decide the future expected behavior from the user in next time:\n",
    "    - Total number of liked/unliked songs\n",
    "    - Account life time\n",
    "    - Number of played songs whatever in a single session or generaly   \n",
    "    \n",
    "    \n",
    "That appeared in top features overall.\n"
   ]
  },
  {
   "cell_type": "markdown",
   "metadata": {},
   "source": [
    "## Conclusion"
   ]
  },
  {
   "cell_type": "markdown",
   "metadata": {},
   "source": [
    "#### Reflection\n",
    "- This project built to use spark lib but may still have a problem in running models that take some time and can't be run on local machine and in the environment takes a lot specially if you trying to grid search some parameters, and meke me ask what if we worked on all data not just small subset.\n",
    "- I liked some difficulties in this project like features exploration and engineering and finding some way to get a pattern users follow before stop using service."
   ]
  },
  {
   "cell_type": "markdown",
   "metadata": {},
   "source": [
    "#### Improvement\n",
    "The features can be improved a lot after considering more factors, adding mre features, but we can use more data to have better results as the user base grow.\n",
    "\n",
    "Currently, we have a portion of unique users, and we only use 60% of them to train. That said, the model has a huge potential to improve if the sample size increase, and the expected performance will also increase."
   ]
  }
 ],
 "metadata": {
  "kernelspec": {
   "display_name": "Python 3",
   "language": "python",
   "name": "python3"
  },
  "language_info": {
   "codemirror_mode": {
    "name": "ipython",
    "version": 3
   },
   "file_extension": ".py",
   "mimetype": "text/x-python",
   "name": "python",
   "nbconvert_exporter": "python",
   "pygments_lexer": "ipython3",
   "version": "3.6.3"
  }
 },
 "nbformat": 4,
 "nbformat_minor": 2
}
